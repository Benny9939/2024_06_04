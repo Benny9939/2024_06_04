{
 "cells": [
  {
   "cell_type": "code",
   "execution_count": 14,
   "id": "d9b92f55-5085-41a9-8edb-2b058f56bf2a",
   "metadata": {},
   "outputs": [],
   "source": [
    "import numpy as np\n",
    "from keras.datasets import mnist\n",
    "from keras.models import Sequential\n",
    "from keras.layers import Conv2D, MaxPooling2D, Flatten, Dense\n",
    "from keras.utils import to_categorical\n"
   ]
  },
  {
   "cell_type": "code",
   "execution_count": 15,
   "id": "98d18d9d-e8bd-4834-a95c-527f3b0766e2",
   "metadata": {},
   "outputs": [
    {
     "name": "stdout",
     "output_type": "stream",
     "text": [
      "(20, 28, 28)\n",
      "[7 2 1 0 4 1 4 9 5 9 0 6 9 0 1 5 9 7 3 4]\n"
     ]
    }
   ],
   "source": [
    "(x_train_load, y_train_load), (x_test_load, y_test_load) = mnist.load_data()\n",
    "# 處理數據\n",
    "x_train_load = x_train_load[:100]\n",
    "y_train_load = y_train_load[:100]\n",
    "\n",
    "x_test_load = x_test_load[:20]\n",
    "y_test_load = y_test_load[:20]\n",
    "\n",
    "print(x_test_load.shape)\n",
    "print(y_test_load)\n",
    "# print(set(y_test_load))\n"
   ]
  },
  {
   "cell_type": "code",
   "execution_count": 16,
   "id": "bac3d896-2621-405e-b344-17a65d681f73",
   "metadata": {
    "scrolled": true
   },
   "outputs": [
    {
     "name": "stdout",
     "output_type": "stream",
     "text": [
      "(20, 28, 28, 1)\n",
      "[0. 0. 0. 0. 1. 0. 0. 0. 0. 0.]\n"
     ]
    }
   ],
   "source": [
    "# Data normalization\n",
    "\n",
    "x_train = x_train_load.reshape((x_train_load.shape[0], 28, 28, 1)).astype('float32') / 255     # ==> 39s\n",
    "x_test = x_test_load.reshape((x_test_load.shape[0], 28, 28, 1)).astype('float32') / 255\n",
    "# x_train = x_train_load / 255     # ==> 39s\n",
    "# x_test = x_test_load / 255\n",
    "\n",
    "# 將標籤轉換為 one-hot 編碼\n",
    "y_train = to_categorical(y_train_load)\n",
    "y_test = to_categorical(y_test_load)\n",
    "print(x_test.shape)\n",
    "print(y_test[4])\n"
   ]
  },
  {
   "cell_type": "code",
   "execution_count": 17,
   "id": "d42a7225-3943-477b-922a-7d2147863aba",
   "metadata": {},
   "outputs": [
    {
     "name": "stdout",
     "output_type": "stream",
     "text": [
      "(28, 28)\n"
     ]
    }
   ],
   "source": [
    "print(x_test_load[0].shape)\n"
   ]
  },
  {
   "cell_type": "code",
   "execution_count": 18,
   "id": "8d0de601-de2d-49e6-93bd-351a82b9e499",
   "metadata": {
    "scrolled": true
   },
   "outputs": [
    {
     "name": "stdout",
     "output_type": "stream",
     "text": [
      "Epoch 1/50\n",
      "2/2 [==============================] - 2s 647ms/step - loss: 2.3330 - accuracy: 0.1000 - val_loss: 2.2977 - val_accuracy: 0.3000\n",
      "Epoch 2/50\n",
      "2/2 [==============================] - 0s 73ms/step - loss: 2.2322 - accuracy: 0.1800 - val_loss: 2.2530 - val_accuracy: 0.3000\n",
      "Epoch 3/50\n",
      "2/2 [==============================] - 0s 65ms/step - loss: 2.1512 - accuracy: 0.2500 - val_loss: 2.2093 - val_accuracy: 0.2500\n",
      "Epoch 4/50\n",
      "2/2 [==============================] - 0s 71ms/step - loss: 2.0787 - accuracy: 0.3800 - val_loss: 2.1625 - val_accuracy: 0.3500\n",
      "Epoch 5/50\n",
      "2/2 [==============================] - 0s 65ms/step - loss: 2.0059 - accuracy: 0.4400 - val_loss: 2.1168 - val_accuracy: 0.3500\n",
      "Epoch 6/50\n",
      "2/2 [==============================] - 0s 74ms/step - loss: 1.9293 - accuracy: 0.4700 - val_loss: 2.0698 - val_accuracy: 0.3500\n",
      "Epoch 7/50\n",
      "2/2 [==============================] - 0s 69ms/step - loss: 1.8574 - accuracy: 0.5100 - val_loss: 2.0255 - val_accuracy: 0.3500\n",
      "Epoch 8/50\n",
      "2/2 [==============================] - 0s 75ms/step - loss: 1.7808 - accuracy: 0.5400 - val_loss: 1.9822 - val_accuracy: 0.3500\n",
      "Epoch 9/50\n",
      "2/2 [==============================] - 0s 72ms/step - loss: 1.7063 - accuracy: 0.5500 - val_loss: 1.9443 - val_accuracy: 0.3500\n",
      "Epoch 10/50\n",
      "2/2 [==============================] - 0s 75ms/step - loss: 1.6346 - accuracy: 0.5700 - val_loss: 1.9065 - val_accuracy: 0.3500\n",
      "Epoch 11/50\n",
      "2/2 [==============================] - 0s 75ms/step - loss: 1.5599 - accuracy: 0.5900 - val_loss: 1.8656 - val_accuracy: 0.4000\n",
      "Epoch 12/50\n",
      "2/2 [==============================] - 0s 76ms/step - loss: 1.4892 - accuracy: 0.6000 - val_loss: 1.8181 - val_accuracy: 0.5500\n",
      "Epoch 13/50\n",
      "2/2 [==============================] - 0s 76ms/step - loss: 1.4184 - accuracy: 0.6200 - val_loss: 1.7726 - val_accuracy: 0.5500\n",
      "Epoch 14/50\n",
      "2/2 [==============================] - 0s 77ms/step - loss: 1.3535 - accuracy: 0.6700 - val_loss: 1.7261 - val_accuracy: 0.6000\n",
      "Epoch 15/50\n",
      "2/2 [==============================] - 0s 90ms/step - loss: 1.2917 - accuracy: 0.7000 - val_loss: 1.6820 - val_accuracy: 0.6000\n",
      "Epoch 16/50\n",
      "2/2 [==============================] - 0s 67ms/step - loss: 1.2340 - accuracy: 0.7300 - val_loss: 1.6454 - val_accuracy: 0.6000\n",
      "Epoch 17/50\n",
      "2/2 [==============================] - 0s 75ms/step - loss: 1.1782 - accuracy: 0.7300 - val_loss: 1.6128 - val_accuracy: 0.6000\n",
      "Epoch 18/50\n",
      "2/2 [==============================] - 0s 78ms/step - loss: 1.1255 - accuracy: 0.7600 - val_loss: 1.5860 - val_accuracy: 0.6000\n",
      "Epoch 19/50\n",
      "2/2 [==============================] - 0s 74ms/step - loss: 1.0737 - accuracy: 0.7800 - val_loss: 1.5652 - val_accuracy: 0.6000\n",
      "Epoch 20/50\n",
      "2/2 [==============================] - 0s 73ms/step - loss: 1.0252 - accuracy: 0.7800 - val_loss: 1.5433 - val_accuracy: 0.6000\n",
      "Epoch 21/50\n",
      "2/2 [==============================] - 0s 69ms/step - loss: 0.9768 - accuracy: 0.7900 - val_loss: 1.5180 - val_accuracy: 0.6000\n",
      "Epoch 22/50\n",
      "2/2 [==============================] - 0s 65ms/step - loss: 0.9338 - accuracy: 0.8100 - val_loss: 1.4921 - val_accuracy: 0.6000\n",
      "Epoch 23/50\n",
      "2/2 [==============================] - 0s 73ms/step - loss: 0.8923 - accuracy: 0.8200 - val_loss: 1.4661 - val_accuracy: 0.7000\n",
      "Epoch 24/50\n",
      "2/2 [==============================] - 0s 69ms/step - loss: 0.8496 - accuracy: 0.8400 - val_loss: 1.4405 - val_accuracy: 0.7000\n",
      "Epoch 25/50\n",
      "2/2 [==============================] - 0s 70ms/step - loss: 0.8100 - accuracy: 0.8400 - val_loss: 1.4168 - val_accuracy: 0.7000\n",
      "Epoch 26/50\n",
      "2/2 [==============================] - 0s 71ms/step - loss: 0.7720 - accuracy: 0.8700 - val_loss: 1.3955 - val_accuracy: 0.7000\n",
      "Epoch 27/50\n",
      "2/2 [==============================] - 0s 67ms/step - loss: 0.7370 - accuracy: 0.8800 - val_loss: 1.3755 - val_accuracy: 0.7000\n",
      "Epoch 28/50\n",
      "2/2 [==============================] - 0s 82ms/step - loss: 0.7020 - accuracy: 0.9100 - val_loss: 1.3582 - val_accuracy: 0.7000\n",
      "Epoch 29/50\n",
      "2/2 [==============================] - 0s 68ms/step - loss: 0.6689 - accuracy: 0.9100 - val_loss: 1.3420 - val_accuracy: 0.7000\n",
      "Epoch 30/50\n",
      "2/2 [==============================] - 0s 126ms/step - loss: 0.6378 - accuracy: 0.9200 - val_loss: 1.3296 - val_accuracy: 0.7000\n",
      "Epoch 31/50\n",
      "2/2 [==============================] - 0s 124ms/step - loss: 0.6079 - accuracy: 0.9300 - val_loss: 1.3182 - val_accuracy: 0.7000\n",
      "Epoch 32/50\n",
      "2/2 [==============================] - 0s 110ms/step - loss: 0.5805 - accuracy: 0.9400 - val_loss: 1.3060 - val_accuracy: 0.7000\n",
      "Epoch 33/50\n",
      "2/2 [==============================] - 0s 95ms/step - loss: 0.5518 - accuracy: 0.9400 - val_loss: 1.2916 - val_accuracy: 0.7000\n",
      "Epoch 34/50\n",
      "2/2 [==============================] - 0s 112ms/step - loss: 0.5273 - accuracy: 0.9400 - val_loss: 1.2760 - val_accuracy: 0.7000\n",
      "Epoch 35/50\n",
      "2/2 [==============================] - 0s 78ms/step - loss: 0.5037 - accuracy: 0.9600 - val_loss: 1.2617 - val_accuracy: 0.7000\n",
      "Epoch 36/50\n",
      "2/2 [==============================] - 0s 71ms/step - loss: 0.4804 - accuracy: 0.9700 - val_loss: 1.2475 - val_accuracy: 0.7000\n",
      "Epoch 37/50\n",
      "2/2 [==============================] - 0s 69ms/step - loss: 0.4592 - accuracy: 0.9700 - val_loss: 1.2393 - val_accuracy: 0.7000\n",
      "Epoch 38/50\n",
      "2/2 [==============================] - 0s 68ms/step - loss: 0.4382 - accuracy: 0.9700 - val_loss: 1.2336 - val_accuracy: 0.7000\n",
      "Epoch 39/50\n",
      "2/2 [==============================] - 0s 88ms/step - loss: 0.4178 - accuracy: 0.9700 - val_loss: 1.2266 - val_accuracy: 0.7000\n",
      "Epoch 40/50\n",
      "2/2 [==============================] - 0s 75ms/step - loss: 0.3996 - accuracy: 0.9700 - val_loss: 1.2201 - val_accuracy: 0.7000\n",
      "Epoch 41/50\n",
      "2/2 [==============================] - 0s 85ms/step - loss: 0.3816 - accuracy: 0.9700 - val_loss: 1.2123 - val_accuracy: 0.7000\n",
      "Epoch 42/50\n",
      "2/2 [==============================] - 0s 88ms/step - loss: 0.3651 - accuracy: 0.9800 - val_loss: 1.2090 - val_accuracy: 0.7000\n",
      "Epoch 43/50\n",
      "2/2 [==============================] - 0s 91ms/step - loss: 0.3488 - accuracy: 0.9800 - val_loss: 1.2059 - val_accuracy: 0.7000\n",
      "Epoch 44/50\n",
      "2/2 [==============================] - 0s 64ms/step - loss: 0.3332 - accuracy: 0.9800 - val_loss: 1.2024 - val_accuracy: 0.7000\n",
      "Epoch 45/50\n",
      "2/2 [==============================] - 0s 70ms/step - loss: 0.3193 - accuracy: 0.9800 - val_loss: 1.1990 - val_accuracy: 0.7000\n",
      "Epoch 46/50\n",
      "2/2 [==============================] - 0s 96ms/step - loss: 0.3052 - accuracy: 1.0000 - val_loss: 1.1940 - val_accuracy: 0.6500\n",
      "Epoch 47/50\n",
      "2/2 [==============================] - 0s 88ms/step - loss: 0.2925 - accuracy: 1.0000 - val_loss: 1.1886 - val_accuracy: 0.6500\n",
      "Epoch 48/50\n",
      "2/2 [==============================] - 0s 74ms/step - loss: 0.2801 - accuracy: 1.0000 - val_loss: 1.1855 - val_accuracy: 0.6500\n",
      "Epoch 49/50\n",
      "2/2 [==============================] - 0s 58ms/step - loss: 0.2685 - accuracy: 1.0000 - val_loss: 1.1807 - val_accuracy: 0.6500\n",
      "Epoch 50/50\n",
      "2/2 [==============================] - 0s 60ms/step - loss: 0.2573 - accuracy: 1.0000 - val_loss: 1.1807 - val_accuracy: 0.6500\n"
     ]
    }
   ],
   "source": [
    "# 建立模型\n",
    "model = Sequential([\n",
    "    Flatten(input_shape=(28, 28, 1)),\n",
    "    Dense(20, activation='relu'),\n",
    "    Dense(10, activation='softmax')\n",
    "])\n",
    "\n",
    "# 編譯模型\n",
    "model.compile(optimizer='adam',\n",
    "              loss='categorical_crossentropy',\n",
    "              metrics=['accuracy'])\n",
    "# 訓練模型\n",
    "history = model.fit(x_train, y_train, epochs=50, batch_size=64, validation_data=(x_test, y_test))\n",
    "\n"
   ]
  },
  {
   "cell_type": "code",
   "execution_count": 19,
   "id": "349910ac-365c-46af-94cd-7a031f487cdf",
   "metadata": {},
   "outputs": [
    {
     "name": "stdout",
     "output_type": "stream",
     "text": [
      "4/4 [==============================] - 0s 10ms/step\n",
      "Confusion Matrix:\n",
      "[[13  0  0  0  0  0  0  0  0  0]\n",
      " [ 0 14  0  0  0  0  0  0  0  0]\n",
      " [ 0  0  6  0  0  0  0  0  0  0]\n",
      " [ 0  0  0 11  0  0  0  0  0  0]\n",
      " [ 0  0  0  0 11  0  0  0  0  0]\n",
      " [ 0  0  0  0  0  5  0  0  0  0]\n",
      " [ 0  0  0  0  0  0 11  0  0  0]\n",
      " [ 0  0  0  0  0  0  0 10  0  0]\n",
      " [ 0  0  0  0  0  0  0  0  8  0]\n",
      " [ 0  0  0  0  0  0  0  0  0 11]]\n"
     ]
    }
   ],
   "source": [
    "from sklearn.metrics import confusion_matrix\n",
    "\n",
    "y_pred = model.predict(x_train)\n",
    "y_pred_label = np.argmax(y_pred, axis=1)\n",
    "y_train_label = np.argmax(y_train, axis=1)\n",
    "cm = confusion_matrix(y_train_label, y_pred_label)\n",
    "\n",
    "# 打印混淆矩陣\n",
    "print(\"Confusion Matrix:\")\n",
    "print(cm)"
   ]
  },
  {
   "cell_type": "code",
   "execution_count": 20,
   "id": "1c6fae53-32eb-49ee-82d0-f9d39962fd13",
   "metadata": {},
   "outputs": [
    {
     "data": {
      "image/png": "[encoded data removed]",
      "text/plain": [
       "<Figure size 1000x700 with 2 Axes>"
      ]
     },
     "metadata": {},
     "output_type": "display_data"
    }
   ],
   "source": [
    "import matplotlib.pyplot as plt\n",
    "import seaborn as sns\n",
    "\n",
    "# 繪製混淆矩陣的熱圖\n",
    "plt.figure(figsize=(10, 7))\n",
    "sns.heatmap(cm, annot=True, fmt=\"d\", cmap=\"Blues\")\n",
    "plt.xlabel('Predicted Label')\n",
    "plt.ylabel('True Label')\n",
    "plt.title('Confusion Matrix')\n",
    "plt.show()"
   ]
  },
  {
   "cell_type": "code",
   "execution_count": 21,
   "id": "11347c98-f40d-4b51-bbac-2878c56ce142",
   "metadata": {},
   "outputs": [
    {
     "data": {
      "image/png": "[encoded data removed]",
      "text/plain": [
       "<Figure size 640x480 with 1 Axes>"
      ]
     },
     "metadata": {},
     "output_type": "display_data"
    }
   ],
   "source": [
    "import matplotlib.pyplot as plt\n",
    "\n",
    "plt.plot(history.history['loss'], 'r', label='Training loss')\n",
    "plt.plot(history.history['val_loss'], 'b', label='Validation loss')\n",
    "plt.title('Training and validation loss')\n",
    "plt.xlabel('Epochs')\n",
    "plt.ylabel('Loss')\n",
    "plt.legend()\n",
    "\n",
    "plt.show()"
   ]
  },
  {
   "cell_type": "code",
   "execution_count": 22,
   "id": "e41871d0-011d-489e-ba30-652eaf1bfbea",
   "metadata": {},
   "outputs": [
    {
     "name": "stdout",
     "output_type": "stream",
     "text": [
      "1/1 [==============================] - 0s 63ms/step - loss: 1.1807 - accuracy: 0.6500\n",
      "Test a|ccuracy: 0.6499999761581421\n"
     ]
    }
   ],
   "source": [
    "# 評估模型\n",
    "test_loss, test_acc = model.evaluate(x_test, y_test)\n",
    "print('Test a|ccuracy:', test_acc)"
   ]
  },
  {
   "cell_type": "code",
   "execution_count": 23,
   "id": "68c8fd24-92a7-4434-ac2b-2a9eb0d39468",
   "metadata": {},
   "outputs": [
    {
     "name": "stdout",
     "output_type": "stream",
     "text": [
      "1/1 [==============================] - 0s 40ms/step\n",
      "(20, 10)\n",
      "y_pred:  [7 2 1 0 4 1 9 4 4 9 0 4 9 0 1 2 7 7 2 4]\n"
     ]
    }
   ],
   "source": [
    "y_pred = model.predict(x_test)\n",
    "print(y_pred.shape)\n",
    "\n",
    "# print(|y_pred)\n",
    "y_pred_label = np.argmax(y_pred, axis=1)    \n",
    "print('y_pred: ', y_pred_label)"
   ]
  },
  {
   "cell_type": "code",
   "execution_count": 24,
   "id": "7c644ad0-5b50-4197-8cd3-c1e8314bb773",
   "metadata": {},
   "outputs": [
    {
     "name": "stdout",
     "output_type": "stream",
     "text": [
      "1/1 [==============================] - 0s 58ms/step\n",
      "y_shape:  (20, 10)\n",
      "y_pred:  [7 2 1 0 4 1 9 4 4 9 0 4 9 0 1 2 7 7 2 4]\n",
      "y_test:  [7 2 1 0 4 1 4 9 5 9 0 6 9 0 1 5 9 7 3 4]\n",
      "Index of Prediction errors:  [ 6  7  8 11 15 16 18] \n",
      "Total number of prediction errors: 7\n"
     ]
    }
   ],
   "source": [
    "# 找出預測錯誤的索引\n",
    "y_pred = model.predict(x_test)\n",
    "print('y_shape: ', y_pred.shape)\n",
    "\n",
    "y_pred_label = np.argmax(y_pred, axis=1)  # axis=1：沿著行查找每行的最大值的索引。axis=0：沿著列查找每列的最大值的索引。\n",
    "y_test_label = np.argmax(y_test, axis=1)\n",
    "\n",
    "print('y_pred: ', y_pred_label)\n",
    "print('y_test: ', y_test_label)\n",
    "\n",
    "len(x_test)\n",
    "errors = np.where(y_pred_label != y_test_label)[0]\n",
    "print(f'Index of Prediction errors:  {errors} ')\n",
    "print(f'Total number of prediction errors: {len(errors)}')"
   ]
  },
  {
   "cell_type": "markdown",
   "id": "f3f6f192-aebb-446b-a635-880a434e167e",
   "metadata": {},
   "source": [
    "## Exercise : Try to visualize the wrong predictions"
   ]
  },
  {
   "cell_type": "code",
   "execution_count": 28,
   "id": "546ec751-a391-4e2b-9bb7-8528f6171a4d",
   "metadata": {},
   "outputs": [
    {
     "data": {
      "image/png": "[encoded data removed]",
      "text/plain": [
       "<Figure size 1000x1000 with 7 Axes>"
      ]
     },
     "metadata": {},
     "output_type": "display_data"
    }
   ],
   "source": [
    "# 使用 matplotlib 顯示多張圖像\n",
    "# 設置圖像數量\n",
    "num_images = len(errors)\n",
    "\n",
    "# 創建一個圖形和一組子圖\n",
    "fig, axes = plt.subplots(1, num_images, figsize=(10, 10))\n",
    "\n",
    "for i, ax in enumerate(axes):\n",
    "    # 顯示第 i 張圖像\n",
    "    ax.imshow(x_test[errors[i]])\n",
    "    ax.set_title(f'Label: {y_pred_label[errors[i]]}')\n",
    "    ax.axis('off')  # 不顯示軸\n",
    "\n",
    "plt.tight_layout()\n",
    "plt.show()"
   ]
  },
  {
   "cell_type": "code",
   "execution_count": null,
   "id": "fffe0d9a-a51b-4c46-8bdd-cd9535b34e15",
   "metadata": {},
   "outputs": [],
   "source": []
  }
 ],
 "metadata": {
  "kernelspec": {
   "display_name": "Python 3 (ipykernel)",
   "language": "python",
   "name": "python3"
  },
  "language_info": {
   "codemirror_mode": {
    "name": "ipython",
    "version": 3
   },
   "file_extension": ".py",
   "mimetype": "text/x-python",
   "name": "python",
   "nbconvert_exporter": "python",
   "pygments_lexer": "ipython3",
   "version": "3.9.18"
  }
 },
 "nbformat": 4,
 "nbformat_minor": 5
}
