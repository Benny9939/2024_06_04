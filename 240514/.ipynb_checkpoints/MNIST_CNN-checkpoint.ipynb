{
 "cells": [
  {
   "cell_type": "code",
   "execution_count": 8,
   "id": "e8f4e7ce-595f-41db-945f-49cc25ff168b",
   "metadata": {},
   "outputs": [],
   "source": [
    "import numpy as np\n",
    "from keras.datasets import mnist\n",
    "from keras.models import Sequential\n",
    "from keras.layers import Conv2D, MaxPooling2D, Flatten, Dense, Lambda\n",
    "from keras.utils import to_categorical\n",
    "import matplotlib.pyplot as plt"
   ]
  },
  {
   "cell_type": "code",
   "execution_count": 9,
   "id": "f13176a9-d979-4ce0-885a-0ffcb04e53cf",
   "metadata": {},
   "outputs": [
    {
     "name": "stdout",
     "output_type": "stream",
     "text": [
      "(20, 28, 28)\n",
      "[7 2 1 0 4 1 4 9 5 9 0 6 9 0 1 5 9 7 3 4]\n"
     ]
    }
   ],
   "source": [
    "(x_train_load, y_train_load), (x_test_load, y_test_load) = mnist.load_data()\n",
    "# 處理數據\n",
    "x_train_load = x_train_load[:500]\n",
    "y_train_load = y_train_load[:500]\n",
    "\n",
    "x_test_load = x_test_load[:20]\n",
    "y_test_load = y_test_load[:20]\n",
    "\n",
    "print(x_test_load.shape)\n",
    "print(y_test_load)\n"
   ]
  },
  {
   "cell_type": "code",
   "execution_count": 10,
   "id": "f04a9804-bbeb-4d99-a81a-fa3f02b38626",
   "metadata": {},
   "outputs": [
    {
     "name": "stdout",
     "output_type": "stream",
     "text": [
      "(20, 28, 28, 1)\n",
      "[[0. 0. 0. 0. 0. 0. 0. 1. 0. 0.]\n",
      " [0. 0. 1. 0. 0. 0. 0. 0. 0. 0.]\n",
      " [0. 1. 0. 0. 0. 0. 0. 0. 0. 0.]\n",
      " [1. 0. 0. 0. 0. 0. 0. 0. 0. 0.]\n",
      " [0. 0. 0. 0. 1. 0. 0. 0. 0. 0.]\n",
      " [0. 1. 0. 0. 0. 0. 0. 0. 0. 0.]\n",
      " [0. 0. 0. 0. 1. 0. 0. 0. 0. 0.]\n",
      " [0. 0. 0. 0. 0. 0. 0. 0. 0. 1.]\n",
      " [0. 0. 0. 0. 0. 1. 0. 0. 0. 0.]\n",
      " [0. 0. 0. 0. 0. 0. 0. 0. 0. 1.]\n",
      " [1. 0. 0. 0. 0. 0. 0. 0. 0. 0.]\n",
      " [0. 0. 0. 0. 0. 0. 1. 0. 0. 0.]\n",
      " [0. 0. 0. 0. 0. 0. 0. 0. 0. 1.]\n",
      " [1. 0. 0. 0. 0. 0. 0. 0. 0. 0.]\n",
      " [0. 1. 0. 0. 0. 0. 0. 0. 0. 0.]\n",
      " [0. 0. 0. 0. 0. 1. 0. 0. 0. 0.]\n",
      " [0. 0. 0. 0. 0. 0. 0. 0. 0. 1.]\n",
      " [0. 0. 0. 0. 0. 0. 0. 1. 0. 0.]\n",
      " [0. 0. 0. 1. 0. 0. 0. 0. 0. 0.]\n",
      " [0. 0. 0. 0. 1. 0. 0. 0. 0. 0.]]\n"
     ]
    }
   ],
   "source": [
    "# Data normalization\n",
    "\n",
    "# x_train = x_train_load.reshape((x_train_load.shape[0], 28, 28, 1)).astype('float32') / 255     # ==> 39s\n",
    "# x_test = x_test_load.reshape((x_test_load.shape[0], 28, 28, 1)).astype('float32') / 255\n",
    "x_train = x_train_load.reshape((x_train_load.shape[0], 28, 28, 1))                        # ==> 37s  43\n",
    "x_test = x_test_load.reshape((x_test_load.shape[0], 28, 28, 1))\n",
    "\n",
    "# 將標籤轉換為 one-hot 編碼\n",
    "y_train = to_categorical(y_train_load)\n",
    "y_test = to_categorical(y_test_load)\n",
    "print(x_test.shape)\n",
    "print(y_test)\n"
   ]
  },
  {
   "cell_type": "code",
   "execution_count": null,
   "id": "8d0de601-de2d-49e6-93bd-351a82b9e499",
   "metadata": {
    "scrolled": true
   },
   "outputs": [
    {
     "name": "stdout",
     "output_type": "stream",
     "text": [
      "Epoch 1/50\n",
      "8/8 [==============================] - 4s 209ms/step - loss: 19.3111 - accuracy: 0.1220 - val_loss: 6.6033 - val_accuracy: 0.0500\n",
      "Epoch 2/50\n",
      "8/8 [==============================] - 1s 99ms/step - loss: 4.6331 - accuracy: 0.0900 - val_loss: 3.8639 - val_accuracy: 0.0000e+00\n",
      "Epoch 3/50\n",
      "8/8 [==============================] - 1s 107ms/step - loss: 2.7209 - accuracy: 0.1300 - val_loss: 2.8174 - val_accuracy: 0.2000\n",
      "Epoch 4/50\n",
      "8/8 [==============================] - 1s 100ms/step - loss: 2.3687 - accuracy: 0.1480 - val_loss: 2.5661 - val_accuracy: 0.2000\n",
      "Epoch 5/50\n",
      "3/8 [==========>...................] - ETA: 0s - loss: 2.2207 - accuracy: 0.1250"
     ]
    }
   ],
   "source": [
    "# 建立模型  ### try to add lamda function\n",
    "\n",
    "import time\n",
    "start_time = time.time()\n",
    "\n",
    "model = Sequential()\n",
    "model.add(Conv2D(8, (3, 3), activation='relu', input_shape=(28, 28, 1)))\n",
    "model.add(MaxPooling2D((2, 2)))\n",
    "model.add(Conv2D(16, (3, 3), activation='relu'))\n",
    "model.add(MaxPooling2D((2, 2)))\n",
    "model.add(Conv2D(16, (3, 3), activation='relu'))\n",
    "model.add(Flatten())\n",
    "model.add(Dense(16, activation='relu'))\n",
    "model.add(Dense(10, activation='softmax'))\n",
    "\n",
    "# 編譯模型   !!! try to change one-hot to categorical input\n",
    "model.compile(optimizer='adam',\n",
    "              loss='categorical_crossentropy',\n",
    "              metrics=['accuracy'])\n",
    "\n",
    "# 訓練模型  == > try to add data generator\n",
    "history = model.fit(x_train, y_train, epochs=50, batch_size=64, validation_data=(x_test, y_test))   \n",
    "end_time = time.time()\n",
    "print(f\"Training took {end_time - start_time} seconds\")\n"
   ]
  },
  {
   "cell_type": "code",
   "execution_count": null,
   "id": "ffb0c6c4-ad2b-4e49-8ab7-a07cf6967cfb",
   "metadata": {},
   "outputs": [],
   "source": [
    "from sklearn.metrics import confusion_matrix\n",
    "\n",
    "y_pred = model.predict(x_train)\n",
    "y_pred_label = np.argmax(y_pred, axis=1)\n",
    "y_train_label = np.argmax(y_train, axis=1)\n",
    "cm = confusion_matrix(y_train_label, y_pred_label)\n",
    "\n",
    "# 打印混淆矩陣\n",
    "print(\"Confusion Matrix:\")\n",
    "print(cm)"
   ]
  },
  {
   "cell_type": "code",
   "execution_count": null,
   "id": "246e7a82-1f9e-4c05-aaa6-15295111fb21",
   "metadata": {},
   "outputs": [],
   "source": [
    "import matplotlib.pyplot as plt\n",
    "import seaborn as sns\n",
    "\n",
    "# 繪製混淆矩陣的熱圖\n",
    "plt.figure(figsize=(10, 7))\n",
    "sns.heatmap(cm, annot=True, fmt=\"d\", cmap=\"Blues\")\n",
    "plt.xlabel('Predicted Label')\n",
    "plt.ylabel('True Label')\n",
    "plt.title('Confusion Matrix')\n",
    "plt.show()"
   ]
  },
  {
   "cell_type": "markdown",
   "id": "7eca9d31-c180-4f17-a40d-b5c1bbabcdf5",
   "metadata": {},
   "source": [
    "## Exercise : try to encapsulate the confusion matrix functionality and utilize it to present the results of both training set and testing set"
   ]
  },
  {
   "cell_type": "code",
   "execution_count": null,
   "id": "7c21d57b-ab9d-44dc-a6f9-2f7fb5299726",
   "metadata": {},
   "outputs": [],
   "source": [
    "import matplotlib.pyplot as plt\n",
    "\n",
    "plt.plot(history.history['loss'], 'r', label='Training loss')\n",
    "plt.plot(history.history['val_loss'], 'b', label='Validation loss')\n",
    "plt.title('Training and validation loss')\n",
    "plt.xlabel('Epochs')\n",
    "plt.ylabel('Loss')\n",
    "plt.legend()\n",
    "\n",
    "plt.show()\n"
   ]
  },
  {
   "cell_type": "code",
   "execution_count": null,
   "id": "46eb3d38-20fa-445a-ba0f-79e75f45b676",
   "metadata": {},
   "outputs": [],
   "source": [
    "# 評估模型\n",
    "test_loss, test_acc = model.evaluate(x_test, y_test)\n",
    "print('Test accuracy:', test_acc)"
   ]
  },
  {
   "cell_type": "code",
   "execution_count": null,
   "id": "780f796d-76fd-439b-a764-63760c6e53cd",
   "metadata": {},
   "outputs": [],
   "source": [
    "y_pred = model.predict(x_test)\n",
    "print(y_pred.shape)\n",
    "\n",
    "# print(|y_pred)\n",
    "y_pred_label = np.argmax(y_pred, axis=1)    \n",
    "print('y_pred: ', y_pred_label)\n"
   ]
  },
  {
   "cell_type": "code",
   "execution_count": null,
   "id": "cb851e32-1143-4c35-8979-902a68514ef4",
   "metadata": {},
   "outputs": [],
   "source": [
    "# 找出預測錯誤的索引\n",
    "y_pred = model.predict(x_test)\n",
    "print('y_shape: ', y_pred.shape)\n",
    "\n",
    "y_pred_label = np.argmax(y_pred, axis=1)  # axis=1：沿著行查找每行的最大值的索引。axis=0：沿著列查找每列的最大值的索引。\n",
    "y_test_label = np.argmax(y_test, axis=1)\n",
    "\n",
    "print('y_pred: ', y_pred_label)\n",
    "print('y_test: ', y_test_label)\n",
    "\n",
    "len(x_test)\n",
    "errors = np.where(y_pred_label != y_test_label)[0]\n",
    "print(f'Index of Prediction errors:  {errors} ')\n",
    "print(f'Total number of prediction errors: {len(errors)}')"
   ]
  },
  {
   "cell_type": "markdown",
   "id": "f683d5fe-a7ff-4af4-b00a-dac5da3f0bda",
   "metadata": {},
   "source": [
    "## Exercise : Try to visualize the wrong predictions"
   ]
  },
  {
   "cell_type": "code",
   "execution_count": null,
   "id": "5bcfc505-c3e4-4f0b-ba47-8e47540aae6e",
   "metadata": {},
   "outputs": [],
   "source": [
    "# 假設 num_images 是你的圖像數量\n",
    "num_images = len(errors)  # 或其他你定義的圖像數量\n",
    "\n",
    "# 決定每排最多顯示的圖像數\n",
    "images_per_row = num_images // 2 + num_images % 2\n",
    "\n",
    "# 創建子圖，自動計算需要的行數\n",
    "rows = (num_images + images_per_row - 1) // images_per_row\n",
    "fig, axes = plt.subplots(rows, images_per_row, figsize=(10, 4))\n",
    "axes = axes.flatten()  # 使 axes 可迭代，保證即使是一行也能正常工作\n",
    "\n",
    "# 顯示圖像\n",
    "for i, ax in enumerate(axes):\n",
    "    if i < num_images:\n",
    "        ax.imshow(x_test_load[errors[i]])\n",
    "        ax.set_title(f'Label: {y_pred_label[errors[i]]}')\n",
    "        ax.axis('off')  # 不顯示軸\n",
    "    else:\n",
    "        ax.axis('off')  # 對於不需要的軸也關閉顯示\n",
    "\n",
    "plt.tight_layout()\n",
    "plt.show()"
   ]
  },
  {
   "cell_type": "code",
   "execution_count": null,
   "id": "c655694b-c509-481d-bd7f-4a387429147d",
   "metadata": {},
   "outputs": [],
   "source": []
  }
 ],
 "metadata": {
  "kernelspec": {
   "display_name": "Python 3 (ipykernel)",
   "language": "python",
   "name": "python3"
  },
  "language_info": {
   "codemirror_mode": {
    "name": "ipython",
    "version": 3
   },
   "file_extension": ".py",
   "mimetype": "text/x-python",
   "name": "python",
   "nbconvert_exporter": "python",
   "pygments_lexer": "ipython3",
   "version": "3.9.18"
  }
 },
 "nbformat": 4,
 "nbformat_minor": 5
}
