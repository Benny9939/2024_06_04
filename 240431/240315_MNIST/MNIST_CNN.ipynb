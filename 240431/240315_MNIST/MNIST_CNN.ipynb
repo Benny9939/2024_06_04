{
 "cells": [
  {
   "cell_type": "code",
   "execution_count": 1,
   "id": "e8f4e7ce-595f-41db-945f-49cc25ff168b",
   "metadata": {},
   "outputs": [],
   "source": [
    "import numpy as np\n",
    "from keras.datasets import mnist\n",
    "from keras.models import Sequential\n",
    "# from keras.layers import Conv2D, MaxPooling2D, Flatten, Dense, Lambda\n",
    "from keras.utils import to_categorical\n",
    "import matplotlib.pyplot as plt"
   ]
  },
  {
   "cell_type": "code",
   "execution_count": 2,
   "id": "f13176a9-d979-4ce0-885a-0ffcb04e53cf",
   "metadata": {},
   "outputs": [
    {
     "name": "stdout",
     "output_type": "stream",
     "text": [
      "(20, 28, 28)\n",
      "[7 2 1 0 4 1 4 9 5 9 0 6 9 0 1 5 9 7 3 4]\n"
     ]
    }
   ],
   "source": [
    "(x_train_load, y_train_load), (x_test_load, y_test_load) = mnist.load_data()\n",
    "# 處理數據\n",
    "x_train_load = x_train_load[:500]\n",
    "y_train_load = y_train_load[:500]\n",
    "\n",
    "x_test_load = x_test_load[:20]\n",
    "y_test_load = y_test_load[:20]\n",
    "\n",
    "print(x_test_load.shape)\n",
    "print(y_test_load)\n"
   ]
  },
  {
   "cell_type": "code",
   "execution_count": 5,
   "id": "f04a9804-bbeb-4d99-a81a-fa3f02b38626",
   "metadata": {},
   "outputs": [
    {
     "name": "stdout",
     "output_type": "stream",
     "text": [
      "(20, 28, 28, 1)\n",
      "[[0. 0. 0. 0. 0. 0. 0. 1. 0. 0.]\n",
      " [0. 0. 1. 0. 0. 0. 0. 0. 0. 0.]\n",
      " [0. 1. 0. 0. 0. 0. 0. 0. 0. 0.]\n",
      " [1. 0. 0. 0. 0. 0. 0. 0. 0. 0.]\n",
      " [0. 0. 0. 0. 1. 0. 0. 0. 0. 0.]\n",
      " [0. 1. 0. 0. 0. 0. 0. 0. 0. 0.]\n",
      " [0. 0. 0. 0. 1. 0. 0. 0. 0. 0.]\n",
      " [0. 0. 0. 0. 0. 0. 0. 0. 0. 1.]\n",
      " [0. 0. 0. 0. 0. 1. 0. 0. 0. 0.]\n",
      " [0. 0. 0. 0. 0. 0. 0. 0. 0. 1.]\n",
      " [1. 0. 0. 0. 0. 0. 0. 0. 0. 0.]\n",
      " [0. 0. 0. 0. 0. 0. 1. 0. 0. 0.]\n",
      " [0. 0. 0. 0. 0. 0. 0. 0. 0. 1.]\n",
      " [1. 0. 0. 0. 0. 0. 0. 0. 0. 0.]\n",
      " [0. 1. 0. 0. 0. 0. 0. 0. 0. 0.]\n",
      " [0. 0. 0. 0. 0. 1. 0. 0. 0. 0.]\n",
      " [0. 0. 0. 0. 0. 0. 0. 0. 0. 1.]\n",
      " [0. 0. 0. 0. 0. 0. 0. 1. 0. 0.]\n",
      " [0. 0. 0. 1. 0. 0. 0. 0. 0. 0.]\n",
      " [0. 0. 0. 0. 1. 0. 0. 0. 0. 0.]]\n"
     ]
    }
   ],
   "source": [
    "# Data normalization\n",
    "\n",
    "# x_train = x_train_load.reshape((x_train_load.shape[0], 28, 28, 1)).astype('float32') / 255     # ==> 39s\n",
    "# x_test = x_test_load.reshape((x_test_load.shape[0], 28, 28, 1)).astype('float32') / 255\n",
    "x_train = x_train_load.reshape((x_train_load.shape[0], 28, 28, 1))                        # ==> 37s  43\n",
    "x_test = x_test_load.reshape((x_test_load.shape[0], 28, 28, 1))\n",
    "\n",
    "# 將標籤轉換為 one-hot 編碼\n",
    "y_train = to_categorical(y_train_load)\n",
    "y_test = to_categorical(y_test_load)\n",
    "print(x_test.shape)\n",
    "print(y_test)\n"
   ]
  },
  {
   "cell_type": "code",
   "execution_count": 6,
   "id": "b869fbba-90fb-4f27-b350-d150dbc05b1f",
   "metadata": {
    "scrolled": true
   },
   "outputs": [],
   "source": [
    "\n",
    "# # # 建立一個ImageDataGenerator實例\n",
    "# datagen = ImageDataGenerator(rescale=1./255)\n",
    "\n",
    "# # # 使用.flow_from_directory()方法從目錄中載入圖像\n",
    "# train_generator = datagen.flow_from_directory(\n",
    "#         'data/train',\n",
    "#         target_size=(150, 150),\n",
    "#         batch_size=32,\n",
    "#         class_mode='binary')\n"
   ]
  },
  {
   "cell_type": "code",
   "execution_count": 7,
   "id": "54532b3f-ea20-48df-9e34-b38097841f70",
   "metadata": {},
   "outputs": [],
   "source": [
    "from keras.preprocessing.image import ImageDataGenerator\n",
    "# 創建圖像數據生成器\n",
    "train_datagen = ImageDataGenerator(\n",
    "    rescale=1./255,\n",
    "    rotation_range=10,  # 隨機旋轉的角度範圍\n",
    "    zoom_range=0.1,  # 隨機縮放的範圍\n",
    "    width_shift_range=0.1,  # 水平移動的範圍\n",
    "    height_shift_range=0.1  # 垂直移動的範圍\n",
    ")\n",
    "\n",
    "# 適用生成器於訓練數據\n",
    "train_generator = train_datagen.flow(x_train, y_train)\n",
    "\n",
    "# ....\n",
    "\n",
    "# history = model.fit(train_generator, epochs=50, batch_size=64, validation_data=(x_test, y_test))\n"
   ]
  },
  {
   "cell_type": "code",
   "execution_count": null,
   "id": "8d0de601-de2d-49e6-93bd-351a82b9e499",
   "metadata": {
    "scrolled": true
   },
   "outputs": [],
   "source": [
    "# 建立模型\n",
    "import time\n",
    "start_time = time.time()\n",
    "\n",
    "\n",
    "model = Sequential()\n",
    "model.add(Lambda(lambda x: x / 255))    \n",
    "model.add(Conv2D(8, (3, 3), activation='relu', input_shape=(28, 28, 1)))\n",
    "model.add(MaxPooling2D((2, 2)))\n",
    "model.add(Conv2D(16, (3, 3), activation='relu'))\n",
    "model.add(MaxPooling2D((2, 2)))\n",
    "model.add(Conv2D(16, (3, 3), activation='relu'))\n",
    "model.add(Flatten())\n",
    "model.add(Dense(16, activation='relu'))\n",
    "model.add(Dense(10, activation='softmax'))\n",
    "\n",
    "# 編譯模型   !!! try to change one-hot to categorical input\n",
    "model.compile(optimizer='adam',\n",
    "              loss='categorical_crossentropy',\n",
    "              metrics=['accuracy'])\n",
    "\n",
    "# 訓練模型   \n",
    "history = model.fit(x_train, y_train, epochs=50, batch_size=64, validation_data=(x_test, y_test))\n",
    "# history = model.fit(train_generator, epochs=50, batch_size=64, validation_data=(x_test, y_test))\n",
    "end_time = time.time()\n",
    "print(f\"Training took {end_time - start_time} seconds\")\n"
   ]
  },
  {
   "cell_type": "code",
   "execution_count": null,
   "id": "fc53b625-f00e-4cfe-819b-0483e31c0644",
   "metadata": {},
   "outputs": [],
   "source": [
    "y = lambda x: x / 255\n",
    "print(y(5))  # 輸出: 10"
   ]
  },
  {
   "cell_type": "code",
   "execution_count": null,
   "id": "aa3d26ea-7a97-4b8f-95e0-d689e695c81f",
   "metadata": {},
   "outputs": [],
   "source": [
    "double = lambda x: x * 2\n",
    "print(double(5))  # 輸出: 10"
   ]
  },
  {
   "cell_type": "markdown",
   "id": "14a4120f-b44f-4710-a4fc-29160da13535",
   "metadata": {},
   "source": [
    "## Lambda 函數的基本語法：\n",
    "\n",
    "lambda arguments: expression\n",
    "這裡，arguments 是函數的參數列表，expression 是函數體，它是基於這些參數的表達式，lambda 函數會返回該表達式的結果。\n",
    "\n",
    "範例 1：單一參數的 Lambda 函數\n",
    "double = lambda x: x * 2\n",
    "print(double(5))  # 輸出: 10\n",
    "\n",
    "範例 2：多個參數的 Lambda 函數\n",
    "multiply = lambda x, y: x * y\n",
    "print(multiply(2, 3))  # 輸出: 6\n",
    "\n",
    "範例 3：搭配條件表達式的 Lambda 函數\n",
    "max = lambda x, y: x if x > y else y\n",
    "print(max(5, 7))  # 輸出: 7\n",
    "\n",
    "Lambda 函數由於其簡潔性，特別適合於需要快速、臨時使用小函數的場合。不過，如果函數的邏輯較為複雜，或者需要多次重用，建議使用標準的函數定義方式（使用 def 關鍵字）。"
   ]
  },
  {
   "cell_type": "code",
   "execution_count": null,
   "id": "ffb0c6c4-ad2b-4e49-8ab7-a07cf6967cfb",
   "metadata": {},
   "outputs": [],
   "source": [
    "from sklearn.metrics import confusion_matrix\n",
    "\n",
    "y_pred = model.predict(x_train)\n",
    "y_pred_label = np.argmax(y_pred, axis=1)\n",
    "y_train_label = np.argmax(y_train, axis=1)\n",
    "cm = confusion_matrix(y_train_label, y_pred_label)\n",
    "\n",
    "# 打印混淆矩陣\n",
    "print(\"Confusion Matrix:\")\n",
    "print(cm)"
   ]
  },
  {
   "cell_type": "code",
   "execution_count": null,
   "id": "246e7a82-1f9e-4c05-aaa6-15295111fb21",
   "metadata": {},
   "outputs": [],
   "source": [
    "import matplotlib.pyplot as plt\n",
    "import seaborn as sns\n",
    "\n",
    "# 繪製混淆矩陣的熱圖\n",
    "plt.figure(figsize=(10, 7))\n",
    "sns.heatmap(cm, annot=True, fmt=\"d\", cmap=\"Blues\")\n",
    "plt.xlabel('Predicted Label')\n",
    "plt.ylabel('True Label')\n",
    "plt.title('Confusion Matrix')\n",
    "plt.show()"
   ]
  },
  {
   "cell_type": "markdown",
   "id": "7eca9d31-c180-4f17-a40d-b5c1bbabcdf5",
   "metadata": {},
   "source": [
    "## Exercise : try to encapsulate the confusion matrix functionality and utilize it to present the results of both training set and testing set"
   ]
  },
  {
   "cell_type": "code",
   "execution_count": null,
   "id": "7c21d57b-ab9d-44dc-a6f9-2f7fb5299726",
   "metadata": {},
   "outputs": [],
   "source": [
    "import matplotlib.pyplot as plt\n",
    "\n",
    "plt.plot(history.history['loss'], 'r', label='Training loss')\n",
    "plt.plot(history.history['val_loss'], 'b', label='Validation loss')\n",
    "plt.title('Training and validation loss')\n",
    "plt.xlabel('Epochs')\n",
    "plt.ylabel('Loss')\n",
    "plt.legend()\n",
    "\n",
    "plt.show()\n"
   ]
  },
  {
   "cell_type": "code",
   "execution_count": null,
   "id": "46eb3d38-20fa-445a-ba0f-79e75f45b676",
   "metadata": {},
   "outputs": [],
   "source": [
    "# 評估模型\n",
    "test_loss, test_acc = model.evaluate(x_test, y_test)\n",
    "print('Test accuracy:', test_acc)"
   ]
  },
  {
   "cell_type": "code",
   "execution_count": null,
   "id": "780f796d-76fd-439b-a764-63760c6e53cd",
   "metadata": {},
   "outputs": [],
   "source": [
    "y_pred = model.predict(x_test)\n",
    "print(y_pred.shape)\n",
    "\n",
    "# print(|y_pred)\n",
    "y_pred_label = np.argmax(y_pred, axis=1)    \n",
    "print('y_pred: ', y_pred_label)\n"
   ]
  },
  {
   "cell_type": "code",
   "execution_count": null,
   "id": "cb851e32-1143-4c35-8979-902a68514ef4",
   "metadata": {},
   "outputs": [],
   "source": [
    "# 找出預測錯誤的索引\n",
    "y_pred = model.predict(x_test)\n",
    "print('y_shape: ', y_pred.shape)\n",
    "\n",
    "y_pred_label = np.argmax(y_pred, axis=1)  # axis=1：沿著行查找每行的最大值的索引。axis=0：沿著列查找每列的最大值的索引。\n",
    "y_test_label = np.argmax(y_test, axis=1)\n",
    "\n",
    "print('y_pred: ', y_pred_label)\n",
    "print('y_test: ', y_test_label)\n",
    "\n",
    "len(x_test)\n",
    "errors = np.where(y_pred_label != y_test_label)[0]\n",
    "print(f'Index of Prediction errors:  {errors} ')\n",
    "print(f'Total number of prediction errors: {len(errors)}')"
   ]
  },
  {
   "cell_type": "markdown",
   "id": "4f3a6c0f-8d49-4f8c-86a1-35bb165c4493",
   "metadata": {},
   "source": [
    "## Exercise : Try to visualize the wrong predictions"
   ]
  },
  {
   "cell_type": "code",
   "execution_count": null,
   "id": "8c58cea2-7211-439e-85e9-e0270ff222a2",
   "metadata": {},
   "outputs": [],
   "source": [
    "# 使用 matplotlib 顯示多張圖像\n",
    "# 設置圖像數量\n",
    "\n",
    "num_images = len(errors)\n",
    "\n",
    "# 創建一個圖形和一組子圖\n",
    "fig, axes = plt.subplots(1, num_images, figsize=(10, 10))\n",
    "\n",
    "for i, ax in enumerate(axes):\n",
    "    # 顯示第 i 張圖像\n",
    "    ax.imshow(x_test_load[errors[i]])\n",
    "    ax.set_title(f'Label: {y_pred_label[errors[i]]}')\n",
    "    ax.axis('off')  # 不顯示軸\n",
    "\n",
    "plt.tight_layout()\n",
    "plt.show()"
   ]
  }
 ],
 "metadata": {
  "kernelspec": {
   "display_name": "Python 3 (ipykernel)",
   "language": "python",
   "name": "python3"
  },
  "language_info": {
   "codemirror_mode": {
    "name": "ipython",
    "version": 3
   },
   "file_extension": ".py",
   "mimetype": "text/x-python",
   "name": "python",
   "nbconvert_exporter": "python",
   "pygments_lexer": "ipython3",
   "version": "3.9.18"
  }
 },
 "nbformat": 4,
 "nbformat_minor": 5
}
