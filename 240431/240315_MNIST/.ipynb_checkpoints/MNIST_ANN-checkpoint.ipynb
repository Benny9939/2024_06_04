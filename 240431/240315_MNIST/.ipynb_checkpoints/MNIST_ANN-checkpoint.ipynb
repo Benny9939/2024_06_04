{
 "cells": [
  {
   "cell_type": "code",
   "execution_count": 2,
   "id": "d9b92f55-5085-41a9-8edb-2b058f56bf2a",
   "metadata": {},
   "outputs": [],
   "source": [
    "import numpy as np\n",
    "from keras.datasets import mnist\n",
    "from keras.models import Sequential\n",
    "from keras.layers import Conv2D, MaxPooling2D, Flatten, Dense\n",
    "from keras.utils import to_categorical\n"
   ]
  },
  {
   "cell_type": "code",
   "execution_count": 3,
   "id": "98d18d9d-e8bd-4834-a95c-527f3b0766e2",
   "metadata": {},
   "outputs": [
    {
     "name": "stdout",
     "output_type": "stream",
     "text": [
      "(20, 28, 28)\n",
      "[7 2 1 0 4 1 4 9 5 9 0 6 9 0 1 5 9 7 3 4]\n"
     ]
    }
   ],
   "source": [
    "(x_train_load, y_train_load), (x_test_load, y_test_load) = mnist.load_data()\n",
    "# 處理數據\n",
    "x_train_load = x_train_load[:500]\n",
    "y_train_load = y_train_load[:500]\n",
    "\n",
    "x_test_load = x_test_load[:20]\n",
    "y_test_load = y_test_load[:20]\n",
    "\n",
    "print(x_test_load.shape)\n",
    "print(y_test_load)\n"
   ]
  },
  {
   "cell_type": "code",
   "execution_count": 4,
   "id": "bac3d896-2621-405e-b344-17a65d681f73",
   "metadata": {
    "scrolled": true
   },
   "outputs": [
    {
     "name": "stdout",
     "output_type": "stream",
     "text": [
      "(20, 28, 28, 1)\n",
      "[[0. 0. 0. 0. 0. 0. 0. 1. 0. 0.]\n",
      " [0. 0. 1. 0. 0. 0. 0. 0. 0. 0.]\n",
      " [0. 1. 0. 0. 0. 0. 0. 0. 0. 0.]\n",
      " [1. 0. 0. 0. 0. 0. 0. 0. 0. 0.]\n",
      " [0. 0. 0. 0. 1. 0. 0. 0. 0. 0.]\n",
      " [0. 1. 0. 0. 0. 0. 0. 0. 0. 0.]\n",
      " [0. 0. 0. 0. 1. 0. 0. 0. 0. 0.]\n",
      " [0. 0. 0. 0. 0. 0. 0. 0. 0. 1.]\n",
      " [0. 0. 0. 0. 0. 1. 0. 0. 0. 0.]\n",
      " [0. 0. 0. 0. 0. 0. 0. 0. 0. 1.]\n",
      " [1. 0. 0. 0. 0. 0. 0. 0. 0. 0.]\n",
      " [0. 0. 0. 0. 0. 0. 1. 0. 0. 0.]\n",
      " [0. 0. 0. 0. 0. 0. 0. 0. 0. 1.]\n",
      " [1. 0. 0. 0. 0. 0. 0. 0. 0. 0.]\n",
      " [0. 1. 0. 0. 0. 0. 0. 0. 0. 0.]\n",
      " [0. 0. 0. 0. 0. 1. 0. 0. 0. 0.]\n",
      " [0. 0. 0. 0. 0. 0. 0. 0. 0. 1.]\n",
      " [0. 0. 0. 0. 0. 0. 0. 1. 0. 0.]\n",
      " [0. 0. 0. 1. 0. 0. 0. 0. 0. 0.]\n",
      " [0. 0. 0. 0. 1. 0. 0. 0. 0. 0.]]\n"
     ]
    }
   ],
   "source": [
    "# Data normalization\n",
    "\n",
    "# x_train = x_train_load.reshape((x_train_load.shape[0], 28, 28, 1)).astype('float32') / 255     # ==> 39s\n",
    "# x_test = x_test_load.reshape((x_test_load.shape[0], 28, 28, 1)).astype('float32') / 255\n",
    "x_train = x_train_load.reshape((x_train_load.shape[0], 28, 28, 1))                        # ==> 37s  43\n",
    "x_test = x_test_load.reshape((x_test_load.shape[0], 28, 28, 1))\n",
    "\n",
    "# 將標籤轉換為 one-hot 編碼\n",
    "y_train = to_categorical(y_train_load)\n",
    "y_test = to_categorical(y_test_load)\n",
    "print(x_test.shape)\n",
    "print(y_test)\n"
   ]
  },
  {
   "cell_type": "code",
   "execution_count": 5,
   "id": "8d0de601-de2d-49e6-93bd-351a82b9e499",
   "metadata": {
    "scrolled": true
   },
   "outputs": [
    {
     "name": "stdout",
     "output_type": "stream",
     "text": [
      "Epoch 1/50\n",
      "8/8 [==============================] - 3s 119ms/step - loss: 69.8902 - accuracy: 0.3000 - val_loss: 38.6931 - val_accuracy: 0.5500\n",
      "Epoch 2/50\n",
      "8/8 [==============================] - 0s 29ms/step - loss: 10.7313 - accuracy: 0.7620 - val_loss: 31.1008 - val_accuracy: 0.7000\n",
      "Epoch 3/50\n",
      "8/8 [==============================] - 0s 12ms/step - loss: 4.3955 - accuracy: 0.8800 - val_loss: 22.8108 - val_accuracy: 0.7000\n",
      "Epoch 4/50\n",
      "8/8 [==============================] - 0s 12ms/step - loss: 2.1033 - accuracy: 0.9360 - val_loss: 19.7981 - val_accuracy: 0.7000\n",
      "Epoch 5/50\n",
      "8/8 [==============================] - 0s 13ms/step - loss: 0.8694 - accuracy: 0.9560 - val_loss: 9.8364 - val_accuracy: 0.7500\n",
      "Epoch 6/50\n",
      "8/8 [==============================] - 0s 13ms/step - loss: 0.2548 - accuracy: 0.9840 - val_loss: 10.5359 - val_accuracy: 0.7500\n",
      "Epoch 7/50\n",
      "8/8 [==============================] - 0s 15ms/step - loss: 0.0241 - accuracy: 0.9940 - val_loss: 10.1655 - val_accuracy: 0.7000\n",
      "Epoch 8/50\n",
      "8/8 [==============================] - 0s 15ms/step - loss: 0.0202 - accuracy: 0.9960 - val_loss: 12.0810 - val_accuracy: 0.7000\n",
      "Epoch 9/50\n",
      "8/8 [==============================] - 0s 14ms/step - loss: 3.3897e-05 - accuracy: 1.0000 - val_loss: 13.3131 - val_accuracy: 0.7500\n",
      "Epoch 10/50\n",
      "8/8 [==============================] - 0s 15ms/step - loss: 0.0069 - accuracy: 0.9980 - val_loss: 12.9849 - val_accuracy: 0.7500\n",
      "Epoch 11/50\n",
      "8/8 [==============================] - 0s 15ms/step - loss: 0.0016 - accuracy: 0.9980 - val_loss: 12.7964 - val_accuracy: 0.7500\n",
      "Epoch 12/50\n",
      "8/8 [==============================] - 0s 15ms/step - loss: 2.4729e-06 - accuracy: 1.0000 - val_loss: 13.1089 - val_accuracy: 0.7000\n",
      "Epoch 13/50\n",
      "8/8 [==============================] - 0s 15ms/step - loss: 1.4664e-06 - accuracy: 1.0000 - val_loss: 13.3029 - val_accuracy: 0.7000\n",
      "Epoch 14/50\n",
      "8/8 [==============================] - 0s 15ms/step - loss: 9.7498e-07 - accuracy: 1.0000 - val_loss: 13.3946 - val_accuracy: 0.7000\n",
      "Epoch 15/50\n",
      "8/8 [==============================] - 0s 15ms/step - loss: 8.1100e-07 - accuracy: 1.0000 - val_loss: 13.4360 - val_accuracy: 0.7000\n",
      "Epoch 16/50\n",
      "8/8 [==============================] - 0s 13ms/step - loss: 7.4545e-07 - accuracy: 1.0000 - val_loss: 13.4550 - val_accuracy: 0.7000\n",
      "Epoch 17/50\n",
      "8/8 [==============================] - 0s 13ms/step - loss: 7.2638e-07 - accuracy: 1.0000 - val_loss: 13.4639 - val_accuracy: 0.7000\n",
      "Epoch 18/50\n",
      "8/8 [==============================] - 0s 14ms/step - loss: 6.5678e-07 - accuracy: 1.0000 - val_loss: 13.4681 - val_accuracy: 0.7000\n",
      "Epoch 19/50\n",
      "8/8 [==============================] - 0s 12ms/step - loss: 6.1507e-07 - accuracy: 1.0000 - val_loss: 13.4702 - val_accuracy: 0.7000\n",
      "Epoch 20/50\n",
      "8/8 [==============================] - 0s 13ms/step - loss: 5.7192e-07 - accuracy: 1.0000 - val_loss: 13.4712 - val_accuracy: 0.7000\n",
      "Epoch 21/50\n",
      "8/8 [==============================] - 0s 13ms/step - loss: 5.4928e-07 - accuracy: 1.0000 - val_loss: 13.4720 - val_accuracy: 0.7000\n",
      "Epoch 22/50\n",
      "8/8 [==============================] - 0s 15ms/step - loss: 5.2759e-07 - accuracy: 1.0000 - val_loss: 13.4726 - val_accuracy: 0.7000\n",
      "Epoch 23/50\n",
      "8/8 [==============================] - 0s 15ms/step - loss: 5.0256e-07 - accuracy: 1.0000 - val_loss: 13.4730 - val_accuracy: 0.7000\n",
      "Epoch 24/50\n",
      "8/8 [==============================] - 0s 15ms/step - loss: 4.8206e-07 - accuracy: 1.0000 - val_loss: 13.4735 - val_accuracy: 0.7000\n",
      "Epoch 25/50\n",
      "8/8 [==============================] - 0s 12ms/step - loss: 4.6251e-07 - accuracy: 1.0000 - val_loss: 13.4739 - val_accuracy: 0.7000\n",
      "Epoch 26/50\n",
      "8/8 [==============================] - 0s 12ms/step - loss: 4.4725e-07 - accuracy: 1.0000 - val_loss: 13.4745 - val_accuracy: 0.7000\n",
      "Epoch 27/50\n",
      "8/8 [==============================] - 0s 13ms/step - loss: 4.3033e-07 - accuracy: 1.0000 - val_loss: 13.4749 - val_accuracy: 0.7000\n",
      "Epoch 28/50\n",
      "8/8 [==============================] - 0s 15ms/step - loss: 4.1602e-07 - accuracy: 1.0000 - val_loss: 13.4753 - val_accuracy: 0.7000\n",
      "Epoch 29/50\n",
      "8/8 [==============================] - 0s 14ms/step - loss: 4.0601e-07 - accuracy: 1.0000 - val_loss: 13.4757 - val_accuracy: 0.7000\n",
      "Epoch 30/50\n",
      "8/8 [==============================] - 0s 13ms/step - loss: 3.9171e-07 - accuracy: 1.0000 - val_loss: 13.4760 - val_accuracy: 0.7000\n",
      "Epoch 31/50\n",
      "8/8 [==============================] - 0s 12ms/step - loss: 3.8360e-07 - accuracy: 1.0000 - val_loss: 13.4764 - val_accuracy: 0.7000\n",
      "Epoch 32/50\n",
      "8/8 [==============================] - 0s 13ms/step - loss: 3.7144e-07 - accuracy: 1.0000 - val_loss: 13.4767 - val_accuracy: 0.7000\n",
      "Epoch 33/50\n",
      "8/8 [==============================] - 0s 10ms/step - loss: 3.6358e-07 - accuracy: 1.0000 - val_loss: 13.4771 - val_accuracy: 0.7000\n",
      "Epoch 34/50\n",
      "8/8 [==============================] - 0s 15ms/step - loss: 3.5404e-07 - accuracy: 1.0000 - val_loss: 13.4774 - val_accuracy: 0.7000\n",
      "Epoch 35/50\n",
      "8/8 [==============================] - 0s 14ms/step - loss: 3.4713e-07 - accuracy: 1.0000 - val_loss: 13.4777 - val_accuracy: 0.7000\n",
      "Epoch 36/50\n",
      "8/8 [==============================] - 0s 14ms/step - loss: 3.3664e-07 - accuracy: 1.0000 - val_loss: 13.4780 - val_accuracy: 0.7000\n",
      "Epoch 37/50\n",
      "8/8 [==============================] - 0s 14ms/step - loss: 3.3306e-07 - accuracy: 1.0000 - val_loss: 13.4784 - val_accuracy: 0.7000\n",
      "Epoch 38/50\n",
      "8/8 [==============================] - 0s 15ms/step - loss: 3.2376e-07 - accuracy: 1.0000 - val_loss: 13.4787 - val_accuracy: 0.7000\n",
      "Epoch 39/50\n",
      "8/8 [==============================] - 0s 16ms/step - loss: 3.1947e-07 - accuracy: 1.0000 - val_loss: 13.4790 - val_accuracy: 0.7000\n",
      "Epoch 40/50\n",
      "8/8 [==============================] - 0s 13ms/step - loss: 3.0946e-07 - accuracy: 1.0000 - val_loss: 13.4792 - val_accuracy: 0.7000\n",
      "Epoch 41/50\n",
      "8/8 [==============================] - 0s 14ms/step - loss: 3.0779e-07 - accuracy: 1.0000 - val_loss: 13.4796 - val_accuracy: 0.7000\n",
      "Epoch 42/50\n",
      "8/8 [==============================] - 0s 14ms/step - loss: 3.0016e-07 - accuracy: 1.0000 - val_loss: 13.4799 - val_accuracy: 0.7000\n",
      "Epoch 43/50\n",
      "8/8 [==============================] - 0s 14ms/step - loss: 2.9372e-07 - accuracy: 1.0000 - val_loss: 13.4802 - val_accuracy: 0.7000\n",
      "Epoch 44/50\n",
      "8/8 [==============================] - 0s 12ms/step - loss: 2.8919e-07 - accuracy: 1.0000 - val_loss: 13.4804 - val_accuracy: 0.7000\n",
      "Epoch 45/50\n",
      "8/8 [==============================] - 0s 14ms/step - loss: 2.8300e-07 - accuracy: 1.0000 - val_loss: 13.4806 - val_accuracy: 0.7000\n",
      "Epoch 46/50\n",
      "8/8 [==============================] - 0s 12ms/step - loss: 2.8157e-07 - accuracy: 1.0000 - val_loss: 13.4809 - val_accuracy: 0.7000\n",
      "Epoch 47/50\n",
      "8/8 [==============================] - 0s 13ms/step - loss: 2.7394e-07 - accuracy: 1.0000 - val_loss: 13.4811 - val_accuracy: 0.7000\n",
      "Epoch 48/50\n",
      "8/8 [==============================] - 0s 14ms/step - loss: 2.7108e-07 - accuracy: 1.0000 - val_loss: 13.4814 - val_accuracy: 0.7000\n",
      "Epoch 49/50\n",
      "8/8 [==============================] - 0s 14ms/step - loss: 2.6678e-07 - accuracy: 1.0000 - val_loss: 13.4816 - val_accuracy: 0.7000\n",
      "Epoch 50/50\n",
      "8/8 [==============================] - 0s 14ms/step - loss: 2.6273e-07 - accuracy: 1.0000 - val_loss: 13.4818 - val_accuracy: 0.7000\n"
     ]
    }
   ],
   "source": [
    "# 建立模型\n",
    "# 建立模型\n",
    "model = Sequential([\n",
    "    Flatten(input_shape=(28, 28, 1)),\n",
    "    Dense(128, activation='relu'),\n",
    "    Dense(10, activation='softmax')\n",
    "])\n",
    "\n",
    "# 編譯模型\n",
    "model.compile(optimizer='adam',\n",
    "              loss='categorical_crossentropy',\n",
    "              metrics=['accuracy'])\n",
    "# 訓練模型\n",
    "history = model.fit(x_train, y_train, epochs=50, batch_size=64, validation_data=(x_test, y_test))\n",
    "\n"
   ]
  },
  {
   "cell_type": "code",
   "execution_count": 6,
   "id": "349910ac-365c-46af-94cd-7a031f487cdf",
   "metadata": {},
   "outputs": [
    {
     "name": "stdout",
     "output_type": "stream",
     "text": [
      "16/16 [==============================] - 0s 6ms/step\n",
      "Confusion Matrix:\n",
      "[[50  0  0  0  0  0  0  0  0  0]\n",
      " [ 0 66  0  0  0  0  0  0  0  0]\n",
      " [ 0  0 52  0  0  0  0  0  0  0]\n",
      " [ 0  0  0 50  0  0  0  0  0  0]\n",
      " [ 0  0  0  0 52  0  0  0  0  0]\n",
      " [ 0  0  0  0  0 39  0  0  0  0]\n",
      " [ 0  0  0  0  0  0 45  0  0  0]\n",
      " [ 0  0  0  0  0  0  0 52  0  0]\n",
      " [ 0  0  0  0  0  0  0  0 39  0]\n",
      " [ 0  0  0  0  0  0  0  0  0 55]]\n"
     ]
    }
   ],
   "source": [
    "from sklearn.metrics import confusion_matrix\n",
    "\n",
    "y_pred = model.predict(x_train)\n",
    "y_pred_label = np.argmax(y_pred, axis=1)\n",
    "y_train_label = np.argmax(y_train, axis=1)\n",
    "cm = confusion_matrix(y_train_label, y_pred_label)\n",
    "\n",
    "# 打印混淆矩陣\n",
    "print(\"Confusion Matrix:\")\n",
    "print(cm)"
   ]
  },
  {
   "cell_type": "code",
   "execution_count": 7,
   "id": "1c6fae53-32eb-49ee-82d0-f9d39962fd13",
   "metadata": {},
   "outputs": [
    {
     "data": {
      "image/png": "[encoded data removed]",
      "text/plain": [
       "<Figure size 1000x700 with 2 Axes>"
      ]
     },
     "metadata": {},
     "output_type": "display_data"
    }
   ],
   "source": [
    "import matplotlib.pyplot as plt\n",
    "import seaborn as sns\n",
    "\n",
    "# 繪製混淆矩陣的熱圖\n",
    "plt.figure(figsize=(10, 7))\n",
    "sns.heatmap(cm, annot=True, fmt=\"d\", cmap=\"Blues\")\n",
    "plt.xlabel('Predicted Label')\n",
    "plt.ylabel('True Label')\n",
    "plt.title('Confusion Matrix')\n",
    "plt.show()"
   ]
  },
  {
   "cell_type": "code",
   "execution_count": 8,
   "id": "11347c98-f40d-4b51-bbac-2878c56ce142",
   "metadata": {},
   "outputs": [
    {
     "data": {
      "image/png": "[encoded data removed]",
      "text/plain": [
       "<Figure size 640x480 with 1 Axes>"
      ]
     },
     "metadata": {},
     "output_type": "display_data"
    }
   ],
   "source": [
    "import matplotlib.pyplot as plt\n",
    "\n",
    "plt.plot(history.history['loss'], 'r', label='Training loss')\n",
    "plt.plot(history.history['val_loss'], 'b', label='Validation loss')\n",
    "plt.title('Training and validation loss')\n",
    "plt.xlabel('Epochs')\n",
    "plt.ylabel('Loss')\n",
    "plt.legend()\n",
    "\n",
    "plt.show()"
   ]
  },
  {
   "cell_type": "code",
   "execution_count": 9,
   "id": "e41871d0-011d-489e-ba30-652eaf1bfbea",
   "metadata": {},
   "outputs": [
    {
     "name": "stdout",
     "output_type": "stream",
     "text": [
      "1/1 [==============================] - 0s 67ms/step - loss: 13.4818 - accuracy: 0.7000\n",
      "Test a|ccuracy: 0.699999988079071\n"
     ]
    }
   ],
   "source": [
    "# 評估模型\n",
    "test_loss, test_acc = model.evaluate(x_test, y_test)\n",
    "print('Test a|ccuracy:', test_acc)"
   ]
  },
  {
   "cell_type": "code",
   "execution_count": 10,
   "id": "68c8fd24-92a7-4434-ac2b-2a9eb0d39468",
   "metadata": {},
   "outputs": [
    {
     "name": "stdout",
     "output_type": "stream",
     "text": [
      "1/1 [==============================] - 0s 40ms/step\n",
      "(20, 10)\n",
      "y_pred:  [7 2 1 0 4 1 4 4 2 7 0 4 4 0 1 5 9 7 2 4]\n"
     ]
    }
   ],
   "source": [
    "y_pred = model.predict(x_test)\n",
    "print(y_pred.shape)\n",
    "\n",
    "# print(|y_pred)\n",
    "y_pred_label = np.argmax(y_pred, axis=1)    \n",
    "print('y_pred: ', y_pred_label)"
   ]
  },
  {
   "cell_type": "code",
   "execution_count": 11,
   "id": "7c644ad0-5b50-4197-8cd3-c1e8314bb773",
   "metadata": {},
   "outputs": [
    {
     "name": "stdout",
     "output_type": "stream",
     "text": [
      "1/1 [==============================] - 0s 57ms/step\n",
      "y_shape:  (20, 10)\n",
      "y_pred:  [7 2 1 0 4 1 4 4 2 7 0 4 4 0 1 5 9 7 2 4]\n",
      "y_test:  [7 2 1 0 4 1 4 9 5 9 0 6 9 0 1 5 9 7 3 4]\n",
      "Index of Prediction errors:  [ 7  8  9 11 12 18] \n",
      "Total number of prediction errors: 6\n"
     ]
    }
   ],
   "source": [
    "# 找出預測錯誤的索引\n",
    "y_pred = model.predict(x_test)\n",
    "print('y_shape: ', y_pred.shape)\n",
    "\n",
    "y_pred_label = np.argmax(y_pred, axis=1)  # axis=1：沿著行查找每行的最大值的索引。axis=0：沿著列查找每列的最大值的索引。\n",
    "y_test_label = np.argmax(y_test, axis=1)\n",
    "\n",
    "print('y_pred: ', y_pred_label)\n",
    "print('y_test: ', y_test_label)\n",
    "\n",
    "len(x_test)\n",
    "errors = np.where(y_pred_label != y_test_label)[0]\n",
    "print(f'Index of Prediction errors:  {errors} ')\n",
    "print(f'Total number of prediction errors: {len(errors)}')"
   ]
  },
  {
   "cell_type": "markdown",
   "id": "24bb9246-3f81-4b9d-b327-1a20870dcf93",
   "metadata": {},
   "source": [
    "## Exercise : Try to visualize the wrong predictions"
   ]
  },
  {
   "cell_type": "code",
   "execution_count": 12,
   "id": "92039eb5-f48b-4580-988c-3efa83691a59",
   "metadata": {},
   "outputs": [
    {
     "data": {
      "image/png": "[encoded data removed]",
      "text/plain": [
       "<Figure size 1000x1000 with 6 Axes>"
      ]
     },
     "metadata": {},
     "output_type": "display_data"
    }
   ],
   "source": [
    "# 使用 matplotlib 顯示多張圖像\n",
    "# 設置圖像數量\n",
    "\n",
    "num_images = len(errors)\n",
    "# 創建一個圖形和數個(一組)子圖\n",
    "print(f'# of error image : {num_images}')\n",
    "\n",
    "fig, axes = plt.subplots(1, num_images, figsize=(10, 10))\n",
    "\n",
    "if num_images == 1:\n",
    "    axes = [axes]  # enumerate僅接受列表資料，若errors=1 ，將單個值改成列表\n",
    "\n",
    "for i, ax in enumerate(axes):\n",
    "    # 顯示第 i 張圖像\n",
    "    ax.imshow(x_test_load[errors[i]])\n",
    "    ax.set_title(f'Label: {y_pred_label[errors[i]]}')\n",
    "    ax.axis('off')  # 不顯示軸\n",
    "\n",
    "plt.tight_layout()\n",
    "plt.show()"
   ]
  }
 ],
 "metadata": {
  "kernelspec": {
   "display_name": "Python 3 (ipykernel)",
   "language": "python",
   "name": "python3"
  },
  "language_info": {
   "codemirror_mode": {
    "name": "ipython",
    "version": 3
   },
   "file_extension": ".py",
   "mimetype": "text/x-python",
   "name": "python",
   "nbconvert_exporter": "python",
   "pygments_lexer": "ipython3",
   "version": "3.9.18"
  }
 },
 "nbformat": 4,
 "nbformat_minor": 5
}
