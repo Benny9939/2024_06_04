{
 "cells": [
  {
   "cell_type": "code",
   "execution_count": 1,
   "id": "e8f4e7ce-595f-41db-945f-49cc25ff168b",
   "metadata": {},
   "outputs": [],
   "source": [
    "import numpy as np\n",
    "from keras.datasets import mnist\n",
    "from keras.models import Sequential\n",
    "from keras.layers import Conv2D, MaxPooling2D, Flatten, Dense, Lambda\n",
    "from keras.utils import to_categorical\n",
    "import matplotlib.pyplot as plt"
   ]
  },
  {
   "cell_type": "code",
   "execution_count": 68,
   "id": "f04a9804-bbeb-4d99-a81a-fa3f02b38626",
   "metadata": {},
   "outputs": [
    {
     "name": "stdout",
     "output_type": "stream",
     "text": [
      "(100, 28, 28)\n",
      "[7 2 1 0 4 1 4 9 5 9 0 6 9 0 1 5 9 7 3 4]\n",
      "(100, 28, 28, 1)\n"
     ]
    }
   ],
   "source": [
    "(x_train, y_train), (x_test, y_test) = mnist.load_data()\n",
    "# 處理數據\n",
    "x_train = x_train[:100]\n",
    "y_train = y_train[:100]\n",
    "\n",
    "x_test = x_test[:20]\n",
    "y_test = y_test[:20]\n",
    "print(x_train.shape)\n",
    "\n",
    "x_train = x_train.reshape((x_train.shape[0], 28, 28, 1)).astype('int8') / 255     # 18s\n",
    "x_test = x_test.reshape((x_test.shape[0], 28, 28, 1)).astype('int8') / 255\n",
    "# x_train = x_train.reshape((x_train.shape[0], 28, 28, 1))                        # 16s\n",
    "# x_test = x_test.reshape((x_test.shape[0], 28, 28, 1))\n",
    "print(y_test)\n",
    "\n",
    "# 將標籤轉換為 one-hot 編碼\n",
    "y_train = to_categorical(y_train)\n",
    "y_test = to_categorical(y_test)\n",
    "print(x_train.shape)\n"
   ]
  },
  {
   "cell_type": "code",
   "execution_count": 59,
   "id": "c0a505a2-4269-4772-ad09-9637d075e5fd",
   "metadata": {},
   "outputs": [
    {
     "name": "stdout",
     "output_type": "stream",
     "text": [
      "[[0. 0. 0. 0. 0. 0. 0. 1. 0. 0.]\n",
      " [0. 0. 1. 0. 0. 0. 0. 0. 0. 0.]\n",
      " [0. 1. 0. 0. 0. 0. 0. 0. 0. 0.]\n",
      " [1. 0. 0. 0. 0. 0. 0. 0. 0. 0.]\n",
      " [0. 0. 0. 0. 1. 0. 0. 0. 0. 0.]\n",
      " [0. 1. 0. 0. 0. 0. 0. 0. 0. 0.]\n",
      " [0. 0. 0. 0. 1. 0. 0. 0. 0. 0.]\n",
      " [0. 0. 0. 0. 0. 0. 0. 0. 0. 1.]\n",
      " [0. 0. 0. 0. 0. 1. 0. 0. 0. 0.]\n",
      " [0. 0. 0. 0. 0. 0. 0. 0. 0. 1.]\n",
      " [1. 0. 0. 0. 0. 0. 0. 0. 0. 0.]\n",
      " [0. 0. 0. 0. 0. 0. 1. 0. 0. 0.]\n",
      " [0. 0. 0. 0. 0. 0. 0. 0. 0. 1.]\n",
      " [1. 0. 0. 0. 0. 0. 0. 0. 0. 0.]\n",
      " [0. 1. 0. 0. 0. 0. 0. 0. 0. 0.]\n",
      " [0. 0. 0. 0. 0. 1. 0. 0. 0. 0.]\n",
      " [0. 0. 0. 0. 0. 0. 0. 0. 0. 1.]\n",
      " [0. 0. 0. 0. 0. 0. 0. 1. 0. 0.]\n",
      " [0. 0. 0. 1. 0. 0. 0. 0. 0. 0.]\n",
      " [0. 0. 0. 0. 1. 0. 0. 0. 0. 0.]]\n"
     ]
    }
   ],
   "source": [
    "print(y_test)"
   ]
  },
  {
   "cell_type": "code",
   "execution_count": 60,
   "id": "b869fbba-90fb-4f27-b350-d150dbc05b1f",
   "metadata": {
    "scrolled": true
   },
   "outputs": [
    {
     "ename": "FileNotFoundError",
     "evalue": "[WinError 3] 系統找不到指定的路徑。: 'data/train'",
     "output_type": "error",
     "traceback": [
      "\u001b[1;31m---------------------------------------------------------------------------\u001b[0m",
      "\u001b[1;31mFileNotFoundError\u001b[0m                         Traceback (most recent call last)",
      "Cell \u001b[1;32mIn[60], line 7\u001b[0m\n\u001b[0;32m      4\u001b[0m datagen \u001b[38;5;241m=\u001b[39m ImageDataGenerator(rescale\u001b[38;5;241m=\u001b[39m\u001b[38;5;241m1.\u001b[39m\u001b[38;5;241m/\u001b[39m\u001b[38;5;241m255\u001b[39m)\n\u001b[0;32m      6\u001b[0m \u001b[38;5;66;03m# # 使用.flow_from_directory()方法從目錄中載入圖像\u001b[39;00m\n\u001b[1;32m----> 7\u001b[0m train_generator \u001b[38;5;241m=\u001b[39m \u001b[43mdatagen\u001b[49m\u001b[38;5;241;43m.\u001b[39;49m\u001b[43mflow_from_directory\u001b[49m\u001b[43m(\u001b[49m\n\u001b[0;32m      8\u001b[0m \u001b[43m        \u001b[49m\u001b[38;5;124;43m'\u001b[39;49m\u001b[38;5;124;43mdata/train\u001b[39;49m\u001b[38;5;124;43m'\u001b[39;49m\u001b[43m,\u001b[49m\n\u001b[0;32m      9\u001b[0m \u001b[43m        \u001b[49m\u001b[43mtarget_size\u001b[49m\u001b[38;5;241;43m=\u001b[39;49m\u001b[43m(\u001b[49m\u001b[38;5;241;43m150\u001b[39;49m\u001b[43m,\u001b[49m\u001b[43m \u001b[49m\u001b[38;5;241;43m150\u001b[39;49m\u001b[43m)\u001b[49m\u001b[43m,\u001b[49m\n\u001b[0;32m     10\u001b[0m \u001b[43m        \u001b[49m\u001b[43mbatch_size\u001b[49m\u001b[38;5;241;43m=\u001b[39;49m\u001b[38;5;241;43m32\u001b[39;49m\u001b[43m,\u001b[49m\n\u001b[0;32m     11\u001b[0m \u001b[43m        \u001b[49m\u001b[43mclass_mode\u001b[49m\u001b[38;5;241;43m=\u001b[39;49m\u001b[38;5;124;43m'\u001b[39;49m\u001b[38;5;124;43mbinary\u001b[39;49m\u001b[38;5;124;43m'\u001b[39;49m\u001b[43m)\u001b[49m\n",
      "File \u001b[1;32m~\\anaconda3\\envs\\NYCU_py39_2024\\lib\\site-packages\\keras\\preprocessing\\image.py:1650\u001b[0m, in \u001b[0;36mImageDataGenerator.flow_from_directory\u001b[1;34m(self, directory, target_size, color_mode, classes, class_mode, batch_size, shuffle, seed, save_to_dir, save_prefix, save_format, follow_links, subset, interpolation, keep_aspect_ratio)\u001b[0m\n\u001b[0;32m   1564\u001b[0m \u001b[38;5;28;01mdef\u001b[39;00m \u001b[38;5;21mflow_from_directory\u001b[39m(\n\u001b[0;32m   1565\u001b[0m     \u001b[38;5;28mself\u001b[39m,\n\u001b[0;32m   1566\u001b[0m     directory,\n\u001b[1;32m   (...)\u001b[0m\n\u001b[0;32m   1580\u001b[0m     keep_aspect_ratio\u001b[38;5;241m=\u001b[39m\u001b[38;5;28;01mFalse\u001b[39;00m,\n\u001b[0;32m   1581\u001b[0m ):\n\u001b[0;32m   1582\u001b[0m \u001b[38;5;250m    \u001b[39m\u001b[38;5;124;03m\"\"\"Takes the path to a directory & generates batches of augmented data.\u001b[39;00m\n\u001b[0;32m   1583\u001b[0m \n\u001b[0;32m   1584\u001b[0m \u001b[38;5;124;03m    Args:\u001b[39;00m\n\u001b[1;32m   (...)\u001b[0m\n\u001b[0;32m   1648\u001b[0m \u001b[38;5;124;03m            and `y` is a numpy array of corresponding labels.\u001b[39;00m\n\u001b[0;32m   1649\u001b[0m \u001b[38;5;124;03m    \"\"\"\u001b[39;00m\n\u001b[1;32m-> 1650\u001b[0m     \u001b[38;5;28;01mreturn\u001b[39;00m \u001b[43mDirectoryIterator\u001b[49m\u001b[43m(\u001b[49m\n\u001b[0;32m   1651\u001b[0m \u001b[43m        \u001b[49m\u001b[43mdirectory\u001b[49m\u001b[43m,\u001b[49m\n\u001b[0;32m   1652\u001b[0m \u001b[43m        \u001b[49m\u001b[38;5;28;43mself\u001b[39;49m\u001b[43m,\u001b[49m\n\u001b[0;32m   1653\u001b[0m \u001b[43m        \u001b[49m\u001b[43mtarget_size\u001b[49m\u001b[38;5;241;43m=\u001b[39;49m\u001b[43mtarget_size\u001b[49m\u001b[43m,\u001b[49m\n\u001b[0;32m   1654\u001b[0m \u001b[43m        \u001b[49m\u001b[43mcolor_mode\u001b[49m\u001b[38;5;241;43m=\u001b[39;49m\u001b[43mcolor_mode\u001b[49m\u001b[43m,\u001b[49m\n\u001b[0;32m   1655\u001b[0m \u001b[43m        \u001b[49m\u001b[43mkeep_aspect_ratio\u001b[49m\u001b[38;5;241;43m=\u001b[39;49m\u001b[43mkeep_aspect_ratio\u001b[49m\u001b[43m,\u001b[49m\n\u001b[0;32m   1656\u001b[0m \u001b[43m        \u001b[49m\u001b[43mclasses\u001b[49m\u001b[38;5;241;43m=\u001b[39;49m\u001b[43mclasses\u001b[49m\u001b[43m,\u001b[49m\n\u001b[0;32m   1657\u001b[0m \u001b[43m        \u001b[49m\u001b[43mclass_mode\u001b[49m\u001b[38;5;241;43m=\u001b[39;49m\u001b[43mclass_mode\u001b[49m\u001b[43m,\u001b[49m\n\u001b[0;32m   1658\u001b[0m \u001b[43m        \u001b[49m\u001b[43mdata_format\u001b[49m\u001b[38;5;241;43m=\u001b[39;49m\u001b[38;5;28;43mself\u001b[39;49m\u001b[38;5;241;43m.\u001b[39;49m\u001b[43mdata_format\u001b[49m\u001b[43m,\u001b[49m\n\u001b[0;32m   1659\u001b[0m \u001b[43m        \u001b[49m\u001b[43mbatch_size\u001b[49m\u001b[38;5;241;43m=\u001b[39;49m\u001b[43mbatch_size\u001b[49m\u001b[43m,\u001b[49m\n\u001b[0;32m   1660\u001b[0m \u001b[43m        \u001b[49m\u001b[43mshuffle\u001b[49m\u001b[38;5;241;43m=\u001b[39;49m\u001b[43mshuffle\u001b[49m\u001b[43m,\u001b[49m\n\u001b[0;32m   1661\u001b[0m \u001b[43m        \u001b[49m\u001b[43mseed\u001b[49m\u001b[38;5;241;43m=\u001b[39;49m\u001b[43mseed\u001b[49m\u001b[43m,\u001b[49m\n\u001b[0;32m   1662\u001b[0m \u001b[43m        \u001b[49m\u001b[43msave_to_dir\u001b[49m\u001b[38;5;241;43m=\u001b[39;49m\u001b[43msave_to_dir\u001b[49m\u001b[43m,\u001b[49m\n\u001b[0;32m   1663\u001b[0m \u001b[43m        \u001b[49m\u001b[43msave_prefix\u001b[49m\u001b[38;5;241;43m=\u001b[39;49m\u001b[43msave_prefix\u001b[49m\u001b[43m,\u001b[49m\n\u001b[0;32m   1664\u001b[0m \u001b[43m        \u001b[49m\u001b[43msave_format\u001b[49m\u001b[38;5;241;43m=\u001b[39;49m\u001b[43msave_format\u001b[49m\u001b[43m,\u001b[49m\n\u001b[0;32m   1665\u001b[0m \u001b[43m        \u001b[49m\u001b[43mfollow_links\u001b[49m\u001b[38;5;241;43m=\u001b[39;49m\u001b[43mfollow_links\u001b[49m\u001b[43m,\u001b[49m\n\u001b[0;32m   1666\u001b[0m \u001b[43m        \u001b[49m\u001b[43msubset\u001b[49m\u001b[38;5;241;43m=\u001b[39;49m\u001b[43msubset\u001b[49m\u001b[43m,\u001b[49m\n\u001b[0;32m   1667\u001b[0m \u001b[43m        \u001b[49m\u001b[43minterpolation\u001b[49m\u001b[38;5;241;43m=\u001b[39;49m\u001b[43minterpolation\u001b[49m\u001b[43m,\u001b[49m\n\u001b[0;32m   1668\u001b[0m \u001b[43m        \u001b[49m\u001b[43mdtype\u001b[49m\u001b[38;5;241;43m=\u001b[39;49m\u001b[38;5;28;43mself\u001b[39;49m\u001b[38;5;241;43m.\u001b[39;49m\u001b[43mdtype\u001b[49m\u001b[43m,\u001b[49m\n\u001b[0;32m   1669\u001b[0m \u001b[43m    \u001b[49m\u001b[43m)\u001b[49m\n",
      "File \u001b[1;32m~\\anaconda3\\envs\\NYCU_py39_2024\\lib\\site-packages\\keras\\preprocessing\\image.py:563\u001b[0m, in \u001b[0;36mDirectoryIterator.__init__\u001b[1;34m(self, directory, image_data_generator, target_size, color_mode, classes, class_mode, batch_size, shuffle, seed, data_format, save_to_dir, save_prefix, save_format, follow_links, subset, interpolation, keep_aspect_ratio, dtype)\u001b[0m\n\u001b[0;32m    561\u001b[0m \u001b[38;5;28;01mif\u001b[39;00m \u001b[38;5;129;01mnot\u001b[39;00m classes:\n\u001b[0;32m    562\u001b[0m     classes \u001b[38;5;241m=\u001b[39m []\n\u001b[1;32m--> 563\u001b[0m     \u001b[38;5;28;01mfor\u001b[39;00m subdir \u001b[38;5;129;01min\u001b[39;00m \u001b[38;5;28msorted\u001b[39m(\u001b[43mos\u001b[49m\u001b[38;5;241;43m.\u001b[39;49m\u001b[43mlistdir\u001b[49m\u001b[43m(\u001b[49m\u001b[43mdirectory\u001b[49m\u001b[43m)\u001b[49m):\n\u001b[0;32m    564\u001b[0m         \u001b[38;5;28;01mif\u001b[39;00m os\u001b[38;5;241m.\u001b[39mpath\u001b[38;5;241m.\u001b[39misdir(os\u001b[38;5;241m.\u001b[39mpath\u001b[38;5;241m.\u001b[39mjoin(directory, subdir)):\n\u001b[0;32m    565\u001b[0m             classes\u001b[38;5;241m.\u001b[39mappend(subdir)\n",
      "\u001b[1;31mFileNotFoundError\u001b[0m: [WinError 3] 系統找不到指定的路徑。: 'data/train'"
     ]
    }
   ],
   "source": [
    "from keras.preprocessing.image import ImageDataGenerator\n",
    "\n",
    "# # 建立一個ImageDataGenerator實例\n",
    "datagen = ImageDataGenerator(rescale=1./255)\n",
    "\n",
    "# # 使用.flow_from_directory()方法從目錄中載入圖像\n",
    "train_generator = datagen.flow_from_directory(\n",
    "        'data/train',\n",
    "        target_size=(150, 150),\n",
    "        batch_size=32,\n",
    "        class_mode='binary')\n"
   ]
  },
  {
   "cell_type": "code",
   "execution_count": 52,
   "id": "54532b3f-ea20-48df-9e34-b38097841f70",
   "metadata": {},
   "outputs": [],
   "source": [
    "# 創建圖像數據生成器\n",
    "# train_datagen = ImageDataGenerator(\n",
    "#     # rescale=1./255,\n",
    "#     rotation_range=10,  # 隨機旋轉的角度範圍\n",
    "#     zoom_range=0.1,  # 隨機縮放的範圍\n",
    "#     width_shift_range=0.1,  # 水平移動的範圍\n",
    "#     height_shift_range=0.1  # 垂直移動的範圍\n",
    "# )\n",
    "\n",
    "# # 適用生成器於訓練數據\n",
    "# train_generator = train_datagen.flow(x_train, y_train)\n",
    "\n",
    "# ....\n",
    "\n",
    "# history = model.fit(train_generator, epochs=50, batch_size=64, validation_data=(x_test, y_test))\n"
   ]
  },
  {
   "cell_type": "code",
   "execution_count": 69,
   "id": "8d0de601-de2d-49e6-93bd-351a82b9e499",
   "metadata": {
    "scrolled": true
   },
   "outputs": [
    {
     "name": "stdout",
     "output_type": "stream",
     "text": [
      "Epoch 1/50\n",
      "2/2 [==============================] - 3s 887ms/step - loss: 2.3073 - accuracy: 0.1000 - val_loss: 2.3056 - val_accuracy: 0.0000e+00\n",
      "Epoch 2/50\n",
      "2/2 [==============================] - 0s 164ms/step - loss: 2.3013 - accuracy: 0.1100 - val_loss: 2.3027 - val_accuracy: 0.0000e+00\n",
      "Epoch 3/50\n",
      "2/2 [==============================] - 0s 186ms/step - loss: 2.2973 - accuracy: 0.1500 - val_loss: 2.3006 - val_accuracy: 0.1000\n",
      "Epoch 4/50\n",
      "2/2 [==============================] - 0s 124ms/step - loss: 2.2940 - accuracy: 0.1800 - val_loss: 2.2990 - val_accuracy: 0.1500\n",
      "Epoch 5/50\n",
      "2/2 [==============================] - 0s 187ms/step - loss: 2.2905 - accuracy: 0.1800 - val_loss: 2.2965 - val_accuracy: 0.1500\n",
      "Epoch 6/50\n",
      "2/2 [==============================] - 0s 180ms/step - loss: 2.2866 - accuracy: 0.1700 - val_loss: 2.2938 - val_accuracy: 0.1500\n",
      "Epoch 7/50\n",
      "2/2 [==============================] - 0s 186ms/step - loss: 2.2826 - accuracy: 0.2100 - val_loss: 2.2903 - val_accuracy: 0.2500\n",
      "Epoch 8/50\n",
      "2/2 [==============================] - 0s 201ms/step - loss: 2.2778 - accuracy: 0.2300 - val_loss: 2.2857 - val_accuracy: 0.2500\n",
      "Epoch 9/50\n",
      "2/2 [==============================] - 0s 201ms/step - loss: 2.2727 - accuracy: 0.2500 - val_loss: 2.2818 - val_accuracy: 0.2500\n",
      "Epoch 10/50\n",
      "2/2 [==============================] - 0s 151ms/step - loss: 2.2666 - accuracy: 0.2500 - val_loss: 2.2785 - val_accuracy: 0.2500\n",
      "Epoch 11/50\n",
      "2/2 [==============================] - 0s 219ms/step - loss: 2.2592 - accuracy: 0.2700 - val_loss: 2.2756 - val_accuracy: 0.1500\n",
      "Epoch 12/50\n",
      "2/2 [==============================] - 0s 183ms/step - loss: 2.2517 - accuracy: 0.2600 - val_loss: 2.2707 - val_accuracy: 0.1500\n",
      "Epoch 13/50\n",
      "2/2 [==============================] - 0s 202ms/step - loss: 2.2431 - accuracy: 0.2600 - val_loss: 2.2641 - val_accuracy: 0.1500\n",
      "Epoch 14/50\n",
      "2/2 [==============================] - 0s 167ms/step - loss: 2.2332 - accuracy: 0.2700 - val_loss: 2.2550 - val_accuracy: 0.1500\n",
      "Epoch 15/50\n",
      "2/2 [==============================] - 0s 190ms/step - loss: 2.2221 - accuracy: 0.2500 - val_loss: 2.2470 - val_accuracy: 0.1500\n",
      "Epoch 16/50\n",
      "2/2 [==============================] - 0s 161ms/step - loss: 2.2088 - accuracy: 0.2500 - val_loss: 2.2384 - val_accuracy: 0.1500\n",
      "Epoch 17/50\n",
      "2/2 [==============================] - 0s 183ms/step - loss: 2.1947 - accuracy: 0.2900 - val_loss: 2.2292 - val_accuracy: 0.1000\n",
      "Epoch 18/50\n",
      "2/2 [==============================] - 0s 156ms/step - loss: 2.1789 - accuracy: 0.3000 - val_loss: 2.2186 - val_accuracy: 0.2000\n",
      "Epoch 19/50\n",
      "2/2 [==============================] - 0s 215ms/step - loss: 2.1609 - accuracy: 0.3300 - val_loss: 2.2078 - val_accuracy: 0.3000\n",
      "Epoch 20/50\n",
      "2/2 [==============================] - 0s 200ms/step - loss: 2.1417 - accuracy: 0.3300 - val_loss: 2.1974 - val_accuracy: 0.3000\n",
      "Epoch 21/50\n",
      "2/2 [==============================] - 0s 153ms/step - loss: 2.1227 - accuracy: 0.3600 - val_loss: 2.1819 - val_accuracy: 0.3000\n",
      "Epoch 22/50\n",
      "2/2 [==============================] - 0s 136ms/step - loss: 2.0989 - accuracy: 0.3900 - val_loss: 2.1603 - val_accuracy: 0.3500\n",
      "Epoch 23/50\n",
      "2/2 [==============================] - 0s 156ms/step - loss: 2.0764 - accuracy: 0.4100 - val_loss: 2.1396 - val_accuracy: 0.3500\n",
      "Epoch 24/50\n",
      "2/2 [==============================] - 0s 153ms/step - loss: 2.0518 - accuracy: 0.4400 - val_loss: 2.1224 - val_accuracy: 0.3000\n",
      "Epoch 25/50\n",
      "2/2 [==============================] - 0s 196ms/step - loss: 2.0219 - accuracy: 0.4500 - val_loss: 2.1046 - val_accuracy: 0.3000\n",
      "Epoch 26/50\n",
      "2/2 [==============================] - 0s 219ms/step - loss: 1.9952 - accuracy: 0.4400 - val_loss: 2.0824 - val_accuracy: 0.4000\n",
      "Epoch 27/50\n",
      "2/2 [==============================] - 0s 152ms/step - loss: 1.9624 - accuracy: 0.4800 - val_loss: 2.0559 - val_accuracy: 0.4500\n",
      "Epoch 28/50\n",
      "2/2 [==============================] - 0s 151ms/step - loss: 1.9310 - accuracy: 0.5100 - val_loss: 2.0262 - val_accuracy: 0.4500\n",
      "Epoch 29/50\n",
      "2/2 [==============================] - 0s 190ms/step - loss: 1.8960 - accuracy: 0.5200 - val_loss: 1.9949 - val_accuracy: 0.4500\n",
      "Epoch 30/50\n",
      "2/2 [==============================] - 0s 156ms/step - loss: 1.8611 - accuracy: 0.5200 - val_loss: 1.9734 - val_accuracy: 0.4500\n",
      "Epoch 31/50\n",
      "2/2 [==============================] - 0s 193ms/step - loss: 1.8224 - accuracy: 0.5800 - val_loss: 1.9572 - val_accuracy: 0.4500\n",
      "Epoch 32/50\n",
      "2/2 [==============================] - 0s 184ms/step - loss: 1.7833 - accuracy: 0.5600 - val_loss: 1.9242 - val_accuracy: 0.5000\n",
      "Epoch 33/50\n",
      "2/2 [==============================] - 0s 184ms/step - loss: 1.7429 - accuracy: 0.5600 - val_loss: 1.8876 - val_accuracy: 0.5000\n",
      "Epoch 34/50\n",
      "2/2 [==============================] - 0s 159ms/step - loss: 1.7021 - accuracy: 0.5600 - val_loss: 1.8536 - val_accuracy: 0.5000\n",
      "Epoch 35/50\n",
      "2/2 [==============================] - 0s 144ms/step - loss: 1.6631 - accuracy: 0.5300 - val_loss: 1.8271 - val_accuracy: 0.5500\n",
      "Epoch 36/50\n",
      "2/2 [==============================] - 0s 196ms/step - loss: 1.6218 - accuracy: 0.5300 - val_loss: 1.8186 - val_accuracy: 0.5000\n",
      "Epoch 37/50\n",
      "2/2 [==============================] - 0s 154ms/step - loss: 1.5795 - accuracy: 0.5700 - val_loss: 1.7831 - val_accuracy: 0.5500\n",
      "Epoch 38/50\n",
      "2/2 [==============================] - 0s 138ms/step - loss: 1.5345 - accuracy: 0.5600 - val_loss: 1.7526 - val_accuracy: 0.5500\n",
      "Epoch 39/50\n",
      "2/2 [==============================] - 0s 164ms/step - loss: 1.4937 - accuracy: 0.5700 - val_loss: 1.7292 - val_accuracy: 0.5500\n",
      "Epoch 40/50\n",
      "2/2 [==============================] - 0s 192ms/step - loss: 1.4548 - accuracy: 0.5700 - val_loss: 1.7135 - val_accuracy: 0.5500\n",
      "Epoch 41/50\n",
      "2/2 [==============================] - 0s 147ms/step - loss: 1.4143 - accuracy: 0.5700 - val_loss: 1.7138 - val_accuracy: 0.5500\n",
      "Epoch 42/50\n",
      "2/2 [==============================] - 0s 156ms/step - loss: 1.3733 - accuracy: 0.5700 - val_loss: 1.6995 - val_accuracy: 0.5000\n",
      "Epoch 43/50\n",
      "2/2 [==============================] - 0s 148ms/step - loss: 1.3313 - accuracy: 0.6000 - val_loss: 1.6801 - val_accuracy: 0.4500\n",
      "Epoch 44/50\n",
      "2/2 [==============================] - 0s 172ms/step - loss: 1.2905 - accuracy: 0.6000 - val_loss: 1.6551 - val_accuracy: 0.4000\n",
      "Epoch 45/50\n",
      "2/2 [==============================] - 0s 197ms/step - loss: 1.2488 - accuracy: 0.6000 - val_loss: 1.6504 - val_accuracy: 0.4000\n",
      "Epoch 46/50\n",
      "2/2 [==============================] - 0s 169ms/step - loss: 1.2120 - accuracy: 0.6100 - val_loss: 1.6469 - val_accuracy: 0.4000\n",
      "Epoch 47/50\n",
      "2/2 [==============================] - 0s 149ms/step - loss: 1.1776 - accuracy: 0.6200 - val_loss: 1.6239 - val_accuracy: 0.4500\n",
      "Epoch 48/50\n",
      "2/2 [==============================] - 0s 167ms/step - loss: 1.1322 - accuracy: 0.6200 - val_loss: 1.6038 - val_accuracy: 0.4500\n",
      "Epoch 49/50\n",
      "2/2 [==============================] - 0s 159ms/step - loss: 1.0918 - accuracy: 0.6400 - val_loss: 1.5874 - val_accuracy: 0.4000\n",
      "Epoch 50/50\n",
      "2/2 [==============================] - 0s 160ms/step - loss: 1.0560 - accuracy: 0.6500 - val_loss: 1.5930 - val_accuracy: 0.4500\n",
      "Training took 18.12843656539917 seconds\n"
     ]
    }
   ],
   "source": [
    "# 建立模型\n",
    "import time\n",
    "start_time = time.time()\n",
    "\n",
    "\n",
    "model = Sequential()\n",
    "# model.add(Lambda(lambda x: x / 255))\n",
    "model.add(Conv2D(8, (3, 3), activation='relu', input_shape=(28, 28, 1)))\n",
    "model.add(MaxPooling2D((2, 2)))\n",
    "model.add(Conv2D(16, (3, 3), activation='relu'))\n",
    "model.add(MaxPooling2D((2, 2)))\n",
    "model.add(Conv2D(16, (3, 3), activation='relu'))\n",
    "model.add(Flatten())\n",
    "model.add(Dense(16, activation='relu'))\n",
    "model.add(Dense(10, activation='softmax'))\n",
    "\n",
    "# 編譯模型\n",
    "model.compile(optimizer='adam',\n",
    "              loss='categorical_crossentropy',\n",
    "              metrics=['accuracy'])\n",
    "\n",
    "# 訓練模型\n",
    "history = model.fit(x_train, y_train, epochs=50, batch_size=64, validation_data=(x_test, y_test))\n",
    "# history = model.fit(train_generator, epochs=50, batch_size=64, validation_data=(x_test, y_test))\n",
    "end_time = time.time()\n",
    "print(f\"Training took {end_time - start_time} seconds\")\n"
   ]
  },
  {
   "cell_type": "code",
   "execution_count": 21,
   "id": "ffb0c6c4-ad2b-4e49-8ab7-a07cf6967cfb",
   "metadata": {},
   "outputs": [
    {
     "name": "stdout",
     "output_type": "stream",
     "text": [
      "4/4 [==============================] - 0s 8ms/step\n",
      "Confusion Matrix:\n",
      "[[13  0  0  0  0  0  0  0  0  0]\n",
      " [ 0 13  0  1  0  0  0  0  0  0]\n",
      " [ 1  0  5  0  0  0  0  0  0  0]\n",
      " [ 0  0  0 10  0  0  0  0  1  0]\n",
      " [ 0  0  0  0  9  0  1  0  0  1]\n",
      " [ 0  0  0  1  0  4  0  0  0  0]\n",
      " [ 0  0  0  0  0  0 11  0  0  0]\n",
      " [ 0  0  0  0  0  0  1  8  0  1]\n",
      " [ 0  0  0  0  0  0  0  0  8  0]\n",
      " [ 1  0  0  1  0  0  0  0  0  9]]\n"
     ]
    }
   ],
   "source": [
    "from sklearn.metrics import confusion_matrix\n",
    "\n",
    "y_pred = model.predict(x_train)\n",
    "y_pred_label = np.argmax(y_pred, axis=1)\n",
    "y_train_label = np.argmax(y_train, axis=1)\n",
    "cm = confusion_matrix(y_train_label, y_pred_label)\n",
    "\n",
    "# 打印混淆矩陣\n",
    "print(\"Confusion Matrix:\")\n",
    "print(cm)"
   ]
  },
  {
   "cell_type": "code",
   "execution_count": 22,
   "id": "246e7a82-1f9e-4c05-aaa6-15295111fb21",
   "metadata": {},
   "outputs": [
    {
     "data": {
      "image/png": "[encoded data removed]",
      "text/plain": [
       "<Figure size 1000x700 with 2 Axes>"
      ]
     },
     "metadata": {},
     "output_type": "display_data"
    }
   ],
   "source": [
    "import matplotlib.pyplot as plt\n",
    "import seaborn as sns\n",
    "\n",
    "# 繪製混淆矩陣的熱圖\n",
    "plt.figure(figsize=(10, 7))\n",
    "sns.heatmap(cm, annot=True, fmt=\"d\", cmap=\"Blues\")\n",
    "plt.xlabel('Predicted Label')\n",
    "plt.ylabel('True Label')\n",
    "plt.title('Confusion Matrix')\n",
    "plt.show()"
   ]
  },
  {
   "cell_type": "markdown",
   "id": "7eca9d31-c180-4f17-a40d-b5c1bbabcdf5",
   "metadata": {},
   "source": [
    "## Exercise : try to encapsulate the confusion matrix functionality and utilize it to present the results of both training set and testing set"
   ]
  },
  {
   "cell_type": "code",
   "execution_count": 23,
   "id": "7c21d57b-ab9d-44dc-a6f9-2f7fb5299726",
   "metadata": {},
   "outputs": [
    {
     "data": {
      "image/png": "[encoded data removed]",
      "text/plain": [
       "<Figure size 640x480 with 1 Axes>"
      ]
     },
     "metadata": {},
     "output_type": "display_data"
    }
   ],
   "source": [
    "import matplotlib.pyplot as plt\n",
    "\n",
    "plt.plot(history.history['loss'], 'r', label='Training loss')\n",
    "plt.plot(history.history['val_loss'], 'b', label='Validation loss')\n",
    "plt.title('Training and validation loss')\n",
    "plt.xlabel('Epochs')\n",
    "plt.ylabel('Loss')\n",
    "plt.legend()\n",
    "\n",
    "plt.show()\n"
   ]
  },
  {
   "cell_type": "code",
   "execution_count": 24,
   "id": "46eb3d38-20fa-445a-ba0f-79e75f45b676",
   "metadata": {},
   "outputs": [
    {
     "name": "stdout",
     "output_type": "stream",
     "text": [
      "1/1 [==============================] - 0s 54ms/step - loss: 163.3104 - accuracy: 0.7500\n",
      "Test accuracy: 0.75\n"
     ]
    }
   ],
   "source": [
    "# 評估模型\n",
    "test_loss, test_acc = model.evaluate(x_test, y_test)\n",
    "print('Test accuracy:', test_acc)"
   ]
  },
  {
   "cell_type": "code",
   "execution_count": 25,
   "id": "780f796d-76fd-439b-a764-63760c6e53cd",
   "metadata": {},
   "outputs": [
    {
     "name": "stdout",
     "output_type": "stream",
     "text": [
      "1/1 [==============================] - 0s 48ms/step\n",
      "(20, 10)\n",
      "y_pred:  [7 1 1 0 4 1 4 9 2 9 0 2 9 0 1 3 6 7 3 4]\n"
     ]
    }
   ],
   "source": [
    "y_pred = model.predict(x_test)\n",
    "print(y_pred.shape)\n",
    "\n",
    "# print(|y_pred)\n",
    "y_pred_label = np.argmax(y_pred, axis=1)    \n",
    "print('y_pred: ', y_pred_label)\n"
   ]
  },
  {
   "cell_type": "code",
   "execution_count": 26,
   "id": "cb851e32-1143-4c35-8979-902a68514ef4",
   "metadata": {},
   "outputs": [
    {
     "name": "stdout",
     "output_type": "stream",
     "text": [
      "1/1 [==============================] - 0s 74ms/step\n",
      "y_shape:  (20, 10)\n",
      "y_pred:  [7 1 1 0 4 1 4 9 2 9 0 2 9 0 1 3 6 7 3 4]\n",
      "y_test:  [7 2 1 0 4 1 4 9 5 9 0 6 9 0 1 5 9 7 3 4]\n",
      "Index of Prediction errors:  [ 1  8 11 15 16] \n",
      "Total number of prediction errors: 5\n"
     ]
    }
   ],
   "source": [
    "# 找出預測錯誤的索引\n",
    "y_pred = model.predict(x_test)\n",
    "print('y_shape: ', y_pred.shape)\n",
    "\n",
    "y_pred_label = np.argmax(y_pred, axis=1)  # axis=1：沿著行查找每行的最大值的索引。axis=0：沿著列查找每列的最大值的索引。\n",
    "y_test_label = np.argmax(y_test, axis=1)\n",
    "\n",
    "print('y_pred: ', y_pred_label)\n",
    "print('y_test: ', y_test_label)\n",
    "\n",
    "len(x_test)\n",
    "errors = np.where(y_pred_label != y_test_label)[0]\n",
    "print(f'Index of Prediction errors:  {errors} ')\n",
    "print(f'Total number of prediction errors: {len(errors)}')"
   ]
  },
  {
   "cell_type": "code",
   "execution_count": null,
   "id": "147fb232-6274-4619-895f-5336750c6b16",
   "metadata": {},
   "outputs": [],
   "source": []
  },
  {
   "cell_type": "code",
   "execution_count": null,
   "id": "8c58cea2-7211-439e-85e9-e0270ff222a2",
   "metadata": {},
   "outputs": [],
   "source": []
  }
 ],
 "metadata": {
  "kernelspec": {
   "display_name": "Python [conda env:NYCU_py39_2024] *",
   "language": "python",
   "name": "conda-env-NYCU_py39_2024-py"
  },
  "language_info": {
   "codemirror_mode": {
    "name": "ipython",
    "version": 3
   },
   "file_extension": ".py",
   "mimetype": "text/x-python",
   "name": "python",
   "nbconvert_exporter": "python",
   "pygments_lexer": "ipython3",
   "version": "3.9.18"
  }
 },
 "nbformat": 4,
 "nbformat_minor": 5
}
